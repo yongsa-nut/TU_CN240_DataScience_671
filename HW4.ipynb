{
  "nbformat": 4,
  "nbformat_minor": 0,
  "metadata": {
    "colab": {
      "provenance": [],
      "authorship_tag": "ABX9TyM0n1Ym19et6+SwGggXFwM3",
      "include_colab_link": true
    },
    "kernelspec": {
      "name": "python3",
      "display_name": "Python 3"
    },
    "language_info": {
      "name": "python"
    }
  },
  "cells": [
    {
      "cell_type": "markdown",
      "metadata": {
        "id": "view-in-github",
        "colab_type": "text"
      },
      "source": [
        "<a href=\"https://colab.research.google.com/github/yongsa-nut/TU_CN240_DataScience_671/blob/main/HW4.ipynb\" target=\"_parent\"><img src=\"https://colab.research.google.com/assets/colab-badge.svg\" alt=\"Open In Colab\"/></a>"
      ]
    },
    {
      "cell_type": "markdown",
      "source": [
        "# HW4 - Data Cleaning and Regex\n",
        "## DUE: 27th September 2024 - 23:59\n",
        "\n",
        "- There are 20 questions in this homework. 5 poitns total.\n",
        "- Data for this homework can be found [HW4.zip](https://github.com/yongsa-nut/TU_CN240_DataScience_671/blob/main/Data/HW4.zip)"
      ],
      "metadata": {
        "id": "57WEjVkbvHYT"
      }
    },
    {
      "cell_type": "markdown",
      "source": [
        "## Regex Practices\n",
        "\n",
        "- Run the code below so you can check your answers."
      ],
      "metadata": {
        "id": "qldAjzzHvLry"
      }
    },
    {
      "cell_type": "code",
      "source": [
        "import re\n",
        "\n",
        "# function to check your regex\n",
        "def test_regex(pattern, test_cases, expected_results, match_type='full'):\n",
        "    print(f\"Testing pattern: {pattern}\")\n",
        "\n",
        "    for i, (test, expected) in enumerate(zip(test_cases, expected_results), 1):\n",
        "        if match_type == 'full':\n",
        "            result = bool(re.fullmatch(pattern, test))\n",
        "            match_text = 'matches' if result else 'does not match'\n",
        "        elif match_type == 'search':\n",
        "            result = bool(re.search(pattern, test))\n",
        "            match_text = 'contains match' if result else 'does not contain match'\n",
        "\n",
        "        print(f\"Test {i}: {'✓' if result == expected else '✗'} - '{test}' {match_text}\")\n",
        "\n",
        "        if match_type == 'search' and result:\n",
        "            matches = re.findall(pattern, test)\n",
        "            print(f\"   Matches found: {matches}\")\n",
        "\n",
        "    print()"
      ],
      "metadata": {
        "id": "QjWp848s0x-1"
      },
      "execution_count": null,
      "outputs": []
    },
    {
      "cell_type": "markdown",
      "source": [
        "## Q1a - Uppercase and lowercase only\n",
        "\n",
        "Write a regular expression to match a string that contains only uppercase and lowercase letters (no numbers or special characters).\n",
        "\n",
        "- Match: HelloWorld, abcDEF, RegexPractice\n",
        "- Not match: Hello123, Special@Characters, With Spaces"
      ],
      "metadata": {
        "id": "yu46LT7xv-2B"
      }
    },
    {
      "cell_type": "code",
      "execution_count": null,
      "metadata": {
        "collapsed": true,
        "id": "oq8zPfs9n8aQ"
      },
      "outputs": [],
      "source": [
        "pattern_1a = r\"...\"  # Fill in your regex here\n",
        "\n",
        "## Test cases\n",
        "test_cases_1a = [\"HelloWorld\", \"abcDEF\", \"RegexPractice\", \"Hello123\", \"Special@Characters\", \"With Spaces\"]\n",
        "expected_1a = [True, True, True, False, False, False]\n",
        "test_regex(pattern_1a, test_cases_1a, expected_1a)"
      ]
    },
    {
      "cell_type": "markdown",
      "source": [
        "### Q1b - Zip codes\n",
        "Create a regex pattern to match a zip code in the format xxxxx or xxxxx-xxxx, where x represents a digit.\n",
        "\n",
        "- Match: 12345, 12345-6789\n",
        "- Not match: 1234, 123, 123456, 12345-678"
      ],
      "metadata": {
        "id": "F6S6NtcZw5Bd"
      }
    },
    {
      "cell_type": "code",
      "source": [
        "pattern_1b = r\"...\"  # Fill in your regex here\n",
        "\n",
        "## Test cases\n",
        "test_cases_1b = [\"12345\", \"12345-6789\", \"1234\", \"123\", \"123456\", \"12345-678\"]\n",
        "expected_1b = [True, True, False, False, False, False]\n",
        "test_regex(pattern_1b, test_cases_1b, expected_1b)"
      ],
      "metadata": {
        "id": "1gUVXqI2xRuQ"
      },
      "execution_count": null,
      "outputs": []
    },
    {
      "cell_type": "markdown",
      "source": [
        "### Q1c - Time\n",
        "\n",
        "Develop a regex pattern to match a time in 24-hour format (HH:MM), where HH is between 00 and 23, and MM is between 00 and 59.\n",
        "\n",
        "- Match: 13:45, 00:00, 23:59\n",
        "- Not match: 24:00, 12:60, 1:30"
      ],
      "metadata": {
        "id": "poIOpMxaxRTn"
      }
    },
    {
      "cell_type": "code",
      "source": [
        "pattern_1c = r\"...\"  # Fill in your regex here\n",
        "\n",
        "## Test cases\n",
        "test_cases_1c = [\"13:45\", \"00:00\", \"23:59\", \"24:00\", \"12:60\", \"1:30\"]\n",
        "expected_1c = [True, True, True, False, False, False]\n",
        "test_regex(pattern_1c, test_cases_1c, expected_1c)"
      ],
      "metadata": {
        "id": "BmSDdwNAyDsw"
      },
      "execution_count": null,
      "outputs": []
    },
    {
      "cell_type": "markdown",
      "source": [
        "### Q1d - username\n",
        "\n",
        "Write a regular expression to match a string that contains only lowercase letters and underscores, starts with a letter, and is between 3 and 16 characters long.\n",
        "\n",
        "- Match: hello_world, a_b_c\n",
        "- Not match: username_123, _hello, ab, abcdefghijklmnopq"
      ],
      "metadata": {
        "id": "Qt88ZrvOyDRb"
      }
    },
    {
      "cell_type": "code",
      "source": [
        "pattern_1d = r\"...\"  # Fill in your regex here\n",
        "\n",
        "## Test cases\n",
        "test_cases_1d = [\"hello_world\", \"a_b_c\" \"username_123\", \"_hello\", \"ab\", \"abcdefghijklmnopq\"]\n",
        "expected_1d = [True, True, False, False, False, False]\n",
        "test_regex(pattern_1d, test_cases_1d, expected_1d)"
      ],
      "metadata": {
        "id": "UVO5t3U80G4P"
      },
      "execution_count": null,
      "outputs": []
    },
    {
      "cell_type": "markdown",
      "source": [
        "### Q1e - Apple or Orange\n",
        "\n",
        "Create a regex pattern to find the word \"apple\" or \"orange\" in a sentence.\n",
        "\n",
        "- Match: \"I prefer apple juice over orange juice.\" (Match: apple, orange), \"The orange cat played with an apple.\" (Match: orange, apple)\n",
        "\n",
        "- Not Match: \"Pineapple is my favorite fruit.\", \"He wore an oran shirt.\""
      ],
      "metadata": {
        "id": "7JqXbII8xw2O"
      }
    },
    {
      "cell_type": "code",
      "source": [
        "pattern_1e = r\"...\"  # Fill in your regex here\n",
        "\n",
        "## Test cases\n",
        "test_cases_1e = [\n",
        "            \"I prefer apple juice over orange juice.\",\n",
        "            \"The orange cat played with an apple.\",\n",
        "            \"Pineapple is my favorite fruit.\",\n",
        "            \"He wore an oran shirt.\"\n",
        "               ]\n",
        "expected_1e = [True, True, False, False]\n",
        "test_regex(pattern_1e, test_cases_1e, expected_1e,'search')"
      ],
      "metadata": {
        "id": "OGp2RkmP0J6t"
      },
      "execution_count": null,
      "outputs": []
    },
    {
      "cell_type": "markdown",
      "source": [
        "## Bloomberg News Analysis\n",
        "\n",
        "- For the rest of this homework, we will analyse Bloomberg articles published during 2010\n",
        "- The data that we will use for this section is `msft_bloomberg_news.txt`.\n",
        "- The data is in json format so we will have to use `.read_json()`"
      ],
      "metadata": {
        "id": "o1nNrab07fyw"
      }
    },
    {
      "cell_type": "code",
      "source": [
        "import pandas as pd\n",
        "from plotnine import *\n",
        "\n",
        "# Ensure that pandas shows at least 280 characters in columns, so we can see full articles.\n",
        "pd.set_option(\"max_colwidth\", 280)\n",
        "\n",
        "msft_news_df = pd.read_json('/content/msft_bloomberg_news.txt').set_index('id')\n",
        "msft_news_df.head(3)"
      ],
      "metadata": {
        "id": "5ybe40kE9X45"
      },
      "execution_count": null,
      "outputs": []
    },
    {
      "cell_type": "code",
      "source": [
        "msft_news_df.shape"
      ],
      "metadata": {
        "id": "8n5YvzaE-_V5"
      },
      "execution_count": null,
      "outputs": []
    },
    {
      "cell_type": "markdown",
      "source": [
        "**CAUTION: Viewing the contents of large files in a Jupyter Notebook could crash your browser. Be careful not to print the entire contents of the file.**\n"
      ],
      "metadata": {
        "id": "Ud2aatf3_oVQ"
      }
    },
    {
      "cell_type": "markdown",
      "source": [
        "<br>\n",
        "\n",
        "---\n",
        "\n",
        "## Question 2: Time Analysis\n",
        "\n",
        "After loading in the data, we can start exploring news articles by analyzing the relationships between the release dates (date of publication) and different topics and companies."
      ],
      "metadata": {
        "id": "0VynQTp0_skX"
      }
    },
    {
      "cell_type": "markdown",
      "source": [
        "---\n",
        "\n",
        "### Question 2a-b\n",
        "\n",
        "First, let's extract the date and time from the `released_at` column in `msft_news_df`. Notice that the date and time are encoded in the following format:\n",
        "\n",
        "```\n",
        "<date>May 29 2012</date> <time>09:40:58</time>\n",
        "<date>May 18 2011</date> <time>22:42:40</time>\n",
        "<date>August 15 2012</date> <time>00:09:02</time>\n",
        "...\n",
        "```\n",
        "\n",
        "There are several ways to convert this to easy to use formats. However, for this assignment, we are going to use string manipulation functions.\n",
        "\n",
        "- Create a regular expression that extracts the Month, Day, Year, Hour, Minute, and Second from the `msft_news_df[\"released_at\"]` column. You should create a new `DataFrame` called `dates` that contains:\n",
        "  1. The same index as `msft_news_df` (`id`) and\n",
        "  2. Column labels: `\"Month\"`, `\"Day\"`, `\"Year\"`, `\"Hour\"`, `\"Minute\"`, `\"Second\"`.\n",
        "\n",
        "- Additionally, **convert all numerical values** (`\"Year\"`, `\"Day\"`, `\"Hour\"`, `\"Minute\"`, `\"Second\"`) to type `int`.\n",
        "  - We haven't learned how to do this compactly so you will have to do it one by one.\n",
        "  - To convert, you can use '.astype()` see [documentation](https://pandas.pydata.org/docs/reference/api/pandas.DataFrame.astype.html)\n",
        "\n",
        "**Hint 1:** You should use the [`Series.str.extract`](https://pandas.pydata.org/docs/reference/api/pandas.Series.str.extract.html) function.\n",
        "\n",
        "**Hint 2:** Don't forget to use raw strings and capture groups. Copy the above example text into [regex101.com](https://regex101.com/) to experiment with your regular expressions.\n",
        "\n",
        "**Hint 3:** It might be helpful to break this up into a couple of steps (e.g., first extract date values such as Month, Day, and Year and then extract time values such as Hour, Minute, and Second)."
      ],
      "metadata": {
        "id": "8ZRU5STe_0ow"
      }
    },
    {
      "cell_type": "code",
      "source": [
        "...\n",
        "\n",
        "dates"
      ],
      "metadata": {
        "id": "fbREjH9L_2HD"
      },
      "execution_count": null,
      "outputs": []
    },
    {
      "cell_type": "markdown",
      "source": [
        "<br>\n",
        "\n",
        "---\n",
        "\n",
        "### Question 2c\n",
        "\n",
        "Now that we've figured out how to extract dates, create a new `DataFrame` called `msft_news_2010` that only contains articles released in 2010. This `DataFrame` should contain:\n",
        "1. An index of `id` and\n",
        "2. Columns: `\"title\"`, `\"released_at\"`, `\"content\"`, `\"path\"`, `\"Month\"`, `\"Day\"`, and `\"Year\"`.\n",
        "\n",
        "**Hint:** Consider [merging](https://pandas.pydata.org/docs/reference/api/pandas.DataFrame.merge.html) `msft_news_df` with `dates`."
      ],
      "metadata": {
        "id": "TeW4BHdG_4Tk"
      }
    },
    {
      "cell_type": "code",
      "source": [
        "msft_news_df = ...  # merging\n",
        "msft_news_2010 = ... # grab only 2010\n",
        "msft_news_2010.head(1)"
      ],
      "metadata": {
        "id": "DNCcjoIN_4wm"
      },
      "execution_count": null,
      "outputs": []
    },
    {
      "cell_type": "markdown",
      "source": [
        "<br>\n",
        "\n",
        "---\n",
        "\n",
        "### Question 2d-e\n",
        "\n",
        "After processing the article release dates, we can analyze articles about different topics and companies. Note that all the articles in the provided dataset mention Microsoft/MSFT, but they can also mention other companies.\n"
      ],
      "metadata": {
        "id": "f-FpR-cT_7rd"
      }
    },
    {
      "cell_type": "markdown",
      "source": [
        "For each company in the list of `companies` (provided below), add a boolean column to the `msft_news_df` `DataFrame` indicating whether the corresponding company is mentioned in the text of the article. Ultimately, you should add six new columns (`\"amazon\"`, `\"nintendo\"`, `\"apple\"`, `\"sony\"`, `\"facebook\"`, `\"netflix\"` ) containing `True`/`False` values to the `DataFrame`. You may use a for loop over the list of companies.\n",
        "\n",
        "The table should look similar to the row pictured below:\n",
        "\n",
        "<img src = \"https://drive.google.com/thumbnail?id=1_66nvLPNyOkupLuLuAfy8n3QJ6kI5ntl&sz=w1000\" width = \"1000\">\n",
        "\n",
        "**Note:** Make the contents of the articles **lowercase** before searching for the keywords."
      ],
      "metadata": {
        "id": "pzY_MUtq_9vN"
      }
    },
    {
      "cell_type": "code",
      "source": [
        "companies = [\"amazon\", \"nintendo\", \"apple\", \"sony\", \"facebook\", \"netflix\"]\n",
        "\n",
        "...\n",
        "\n",
        "msft_news_df.head(1)"
      ],
      "metadata": {
        "id": "eoc0-b-S_-yV"
      },
      "execution_count": null,
      "outputs": []
    },
    {
      "cell_type": "markdown",
      "source": [
        "### Question 3a\n",
        "\n",
        "Now, we can put everything together to analyze the release dates and volume of articles for different companies.\n",
        "\n",
        "- Ceate a new `DataFrame` called `year_news` that contains the **number of articles** mentioning each company in the list `companies` **after 2010 (inclusive)**.\n",
        "- `year_news` should have six columns (one column for each company), and the index of this `DataFrame` should be the release year `\"Year\"`.\n",
        "\n",
        "The data should look like below:\n",
        "\n",
        "<img src = \"https://drive.google.com/thumbnail?id=1VsFWxv54YRKf5Jd4f33kAmkovgCAznIy&sz=w1000\" width = \"500\">"
      ],
      "metadata": {
        "id": "-YC8tKBUSya1"
      }
    },
    {
      "cell_type": "code",
      "source": [
        "year_news = ...\n",
        "year_news.head()"
      ],
      "metadata": {
        "id": "qp-GaYvYS64r"
      },
      "execution_count": null,
      "outputs": []
    },
    {
      "cell_type": "markdown",
      "source": [
        "### Question 3b\n",
        "- `year_news` is still not in the format that we can plot. In other word, the data is not tidy.\n",
        "- Think about when you need to plot this graph, you want to set x to `year`, y = `count`, and group/color = `company`\n",
        "- What we want is the data with the following columns: `company`, `year`, and `count`.\n",
        "- `melt` this data to be the right format."
      ],
      "metadata": {
        "id": "iuhyN8h1fGkv"
      }
    },
    {
      "cell_type": "code",
      "source": [
        "year_news = year_news.reset_index()\n",
        "year_news = ...\n",
        "\n",
        "year_news"
      ],
      "metadata": {
        "id": "r9uT-ZBafjT-"
      },
      "execution_count": null,
      "outputs": []
    },
    {
      "cell_type": "markdown",
      "source": [
        "### Question 3c\n",
        "\n",
        "- Now we can use `year_news` to plot the number of articles of the six companies from 2010 to 2013.\n",
        "- Create a plot as show below. Don't forget y label and title.\n",
        "- If your lines don't match the plot below. Check 3a-3b."
      ],
      "metadata": {
        "id": "WrZ4gKMTTAmO"
      }
    },
    {
      "cell_type": "code",
      "source": [
        "# See the graph below"
      ],
      "metadata": {
        "colab": {
          "base_uri": "https://localhost:8080/",
          "height": 514
        },
        "id": "JUTsqJpSTTB4",
        "outputId": "d0d80c94-aa37-48f0-8bba-f847288c998c",
        "collapsed": true
      },
      "execution_count": null,
      "outputs": [
        {
          "output_type": "display_data",
          "data": {
            "text/plain": [
              "<Figure size 640x480 with 1 Axes>"
            ],
            "image/png": "[encoded data removed]"
          },
          "metadata": {
            "image/png": {
              "width": 640,
              "height": 480
            }
          }
        },
        {
          "output_type": "stream",
          "name": "stdout",
          "text": [
            "\n"
          ]
        }
      ]
    },
    {
      "cell_type": "code",
      "source": [
        "g_year_news = ...\n",
        "print(g_year_news)"
      ],
      "metadata": {
        "id": "j5hGB91Chrld"
      },
      "execution_count": null,
      "outputs": []
    },
    {
      "cell_type": "markdown",
      "source": [
        "<br>\n",
        "\n",
        "---\n",
        "\n",
        "## Sentiment Analysis\n",
        "\n",
        "In this section, we will analyse the sentiment of each article - classifying whether the tone of the article is positive or negative.\n",
        "\n",
        "This part is divided into two sub-parts:\n",
        "1. Using AFINN library to analyse the first sentence of the article only.\n",
        "2. Compare to existing sentiment analysis that was done using a more recent technique based on transformer, called [DistrilBert](https://github.com/huggingface/transformers/tree/main/examples/research_projects/distillation).\n",
        "\n",
        "The reason for this is that the recent model is quite big and we cannot easily run it. On the other hand, AFINN is much smaller and fast.\n",
        "Due to the size of the dataset, we will focus only the articles in 2010, `msft_news_2010`."
      ],
      "metadata": {
        "id": "gHSqFUjNU41d"
      }
    },
    {
      "cell_type": "markdown",
      "source": [
        "### Question 4a: MSFT only\n",
        "\n",
        "- We will focus on articles about Microsoft only.\n",
        "- For this question, assign `microsoft_re` to a regular expression that **matches all sentences referencing \"microsoft\" or \"msft\" (in lowercase)**. You should assume all sentences end with `.`, `?`, or `!` and that these punctuation characters are not used for any other purpose.\n",
        "- This is of course not true in practice (e.g., this example! and 3.14), but we will often make these simplifying assumptions to enable progress in data analysis. You will see this in your results.\n",
        "- You should develop and test your regular expression using [regex101.com](https://regex101.com/). Here are some practice sentences.\n",
        "\n",
        "```\n",
        "have you ever worked at microsoft? i once did. microsoft is known for\n",
        "their research in ai. it is abbreviated as msft.\n",
        "```\n",
        "\n",
        "**Hint 1:** Consider using the negation character class `r\"[^.!?]\"` to indicate any characters except these three.\n",
        "\n",
        "**Hint 2:** `( )` will specifies a capture group. You have two options: 1) don't use it, 2) add `?:` so `(?:xxxx|xxx)`. Both ways are accepted.\n",
        "\n",
        "**Hint 3:** Your regex should consist of `[Anything before](?:xxxxx|xxx)[Anything after][Ending symbols]`\n"
      ],
      "metadata": {
        "id": "buxvikHlWc5Y"
      }
    },
    {
      "cell_type": "code",
      "source": [
        "microsoft_re = ...\n"
      ],
      "metadata": {
        "id": "gvZIAphOW85p"
      },
      "execution_count": null,
      "outputs": []
    },
    {
      "cell_type": "markdown",
      "source": [
        "### Question 4b: Sentiment of the first sentece\n",
        "\n",
        "- The article can be quite long and running all of them through the model will take time. Instead, we will only analyze the **first sentence** that mentions `microsoft` or `msft` from each article in `msft_news_2010`.\n",
        "\n",
        "Specifically, you should:\n",
        "\n",
        "1. Canonicalize the content of the articles (`content` column) by converting the text to **lowercase**,\n",
        "2. Use the `microsoft_re` regular expression to extract the first sentence mentioning \"microsoft\" or \"msft\" in each article **without**, and\n",
        "3. Create a new column `first_sentence` in `msft_news_2010` with these values.\n",
        "\n",
        "\n",
        "**Hint 1:** The `Series.str.findall` function might be useful (might take around a minute to run).\n",
        "\n",
        "**Hint 2:** We only want the first sentence from each article that matches `microsoft_re`. Take a look at the [documentation for `Series.str.findall`](https://pandas.pydata.org/docs/reference/api/pandas.Series.str.findall.html) to see how this function handles multiple matches to `microsoft_re`.\n",
        "\n",
        "**Hint 3:** To get the first match you can do `.str[0]`"
      ],
      "metadata": {
        "id": "2zgiZAjLVnaQ"
      }
    },
    {
      "cell_type": "code",
      "source": [
        "...\n",
        "msft_news_2010.head()"
      ],
      "metadata": {
        "id": "MVfVQqunXOwC"
      },
      "execution_count": null,
      "outputs": []
    },
    {
      "cell_type": "markdown",
      "source": [
        "### Question 4c: Sentiment Analysis with AFINN Library\n",
        "\n",
        "- We will be using the [AFINN Library](https://github.com/fnielsen/afinn) to do sentiment analysis.\n",
        "- This library provides a word-based sentiment analysis that calculate the sentiment score based on a labeled word list, where each word has been scored for valence - a scale between negative (-5) and positive (5).\n",
        "- `.score()` return the total score by summing the scores of every word together.\n",
        "- You can test the code below."
      ],
      "metadata": {
        "id": "AN4g3oJaXRSE"
      }
    },
    {
      "cell_type": "code",
      "source": [
        "!pip install afinn"
      ],
      "metadata": {
        "id": "JoO8LXWKkC3p"
      },
      "execution_count": null,
      "outputs": []
    },
    {
      "cell_type": "code",
      "source": [
        "from afinn import Afinn\n",
        "\n",
        "afn = Afinn()"
      ],
      "metadata": {
        "id": "CnFj0AlMlSyE"
      },
      "execution_count": null,
      "outputs": []
    },
    {
      "cell_type": "code",
      "source": [
        "sentence = \"Happy Happy Happy Happy Sad Sad\" # Try removing or adding words here\n",
        "print(f\"Raw score = {afn.score(sentence)}\")\n",
        "print(f\"Avg normalized score = {afn.score(sentence)/len(sentence.split())/5:.2f}\")"
      ],
      "metadata": {
        "id": "uL3PQ5kmX5me"
      },
      "execution_count": null,
      "outputs": []
    },
    {
      "cell_type": "markdown",
      "source": [
        "- Using this model, let's now get the **numerical** sentiment score of the first sentence that mentions \"microsoft\" or \"msft\" for each article.\n",
        "- We will add a new column `sentence_total_sentiment` to `msft_news_2010` by calling `afn.score` on `first_sentence` using `apply` (We will cover this in the next lecture.)"
      ],
      "metadata": {
        "id": "Skpf9ra9X7ec"
      }
    },
    {
      "cell_type": "code",
      "source": [
        "msft_news_2010.loc[:,'sentence_total_sentiment'] = msft_news_2010['first_sentence'].apply(afn.score)\n",
        "msft_news_2010.head(5)"
      ],
      "metadata": {
        "id": "XWJgSFyFXe6z"
      },
      "execution_count": null,
      "outputs": []
    },
    {
      "cell_type": "markdown",
      "source": [
        "- Now using `sentence_total_sentiment`, create another column `sentence_avg_normalized_sentiment` by dividing the score by the number of words and then 5 (See the code above.)"
      ],
      "metadata": {
        "id": "Di_IZ-RJ9z0e"
      }
    },
    {
      "cell_type": "code",
      "source": [
        "...\n",
        "\n",
        "msft_news_2010.head(5)"
      ],
      "metadata": {
        "id": "EmEZHnsK9zlx"
      },
      "execution_count": null,
      "outputs": []
    },
    {
      "cell_type": "markdown",
      "source": [
        "\n",
        "---\n",
        "\n",
        "### Sentiment from Full Sentences\n",
        "\n",
        "We can now turn to an alternative, more accurate way of determining the sentiment score of articles--getting the sentiment based on the entire text, rather than getting sentiment based on the first sentence including \"microsoft\" or \"msft\" in the text. Let's load in `data/article_sentiment_logs.csv`, which contains sentiment scores of the full articles as a `DataFrame` `full_sentiments`. In this file, you are provided with logs which include the `id`, `score`, and `label` (\"N\" for \"NEGATIVE\" and \"P\" for \"POSITIVE\") in the following format:\n",
        "\n",
        "```\n",
        "<device:1> <id:77243971> <result: [0.9963290095329285 (N)]>\n",
        "<device:0> <id:14799046> <result: [0.9980687499046326 (N)]>\n",
        "<device:1> <id:43064156> <result: [0.997868537902832 (N)]>\n",
        "<device:1> <id:29402508> <result: [0.9924335479736328 (N)]>\n",
        "...\n",
        "```\n",
        "\n",
        "- Note: `result: [score (label)]`\n",
        "\n",
        "Run the following cell to load in the `DataFrame` and see what it contains:"
      ],
      "metadata": {
        "id": "lE8_V2XT-ZnH"
      }
    },
    {
      "cell_type": "code",
      "source": [
        "# Run this cell; no further action is needed\n",
        "log_sentiments = pd.read_csv('/content/article_sentiment_logs.csv')\n",
        "log_sentiments.head()"
      ],
      "metadata": {
        "colab": {
          "base_uri": "https://localhost:8080/",
          "height": 206
        },
        "id": "e9XeuHf_-e-U",
        "outputId": "c315d122-5b5e-44b7-acf0-0e8209a574d0"
      },
      "execution_count": null,
      "outputs": [
        {
          "output_type": "execute_result",
          "data": {
            "text/plain": [
              "   RunNum                                                          log\n",
              "0       0  <device:0> <id:77243971> <result: [0.9963290095329285 (N)]>\n",
              "1       1  <device:0> <id:14799046> <result: [0.9980687499046326 (N)]>\n",
              "2       2   <device:0> <id:43064156> <result: [0.997868537902832 (N)]>\n",
              "3       3  <device:0> <id:29402508> <result: [0.9924335479736328 (N)]>\n",
              "4       4  <device:0> <id:71427879> <result: [0.9897157549858093 (N)]>"
            ],
            "text/html": [
              "\n",
              "  <div id=\"df-8d71a31a-0279-485c-909b-52ce79f5dcdc\" class=\"colab-df-container\">\n",
              "    <div>\n",
              "<style scoped>\n",
              "    .dataframe tbody tr th:only-of-type {\n",
              "        vertical-align: middle;\n",
              "    }\n",
              "\n",
              "    .dataframe tbody tr th {\n",
              "        vertical-align: top;\n",
              "    }\n",
              "\n",
              "    .dataframe thead th {\n",
              "        text-align: right;\n",
              "    }\n",
              "</style>\n",
              "<table border=\"1\" class=\"dataframe\">\n",
              "  <thead>\n",
              "    <tr style=\"text-align: right;\">\n",
              "      <th></th>\n",
              "      <th>RunNum</th>\n",
              "      <th>log</th>\n",
              "    </tr>\n",
              "  </thead>\n",
              "  <tbody>\n",
              "    <tr>\n",
              "      <th>0</th>\n",
              "      <td>0</td>\n",
              "      <td>&lt;device:0&gt; &lt;id:77243971&gt; &lt;result: [0.9963290095329285 (N)]&gt;</td>\n",
              "    </tr>\n",
              "    <tr>\n",
              "      <th>1</th>\n",
              "      <td>1</td>\n",
              "      <td>&lt;device:0&gt; &lt;id:14799046&gt; &lt;result: [0.9980687499046326 (N)]&gt;</td>\n",
              "    </tr>\n",
              "    <tr>\n",
              "      <th>2</th>\n",
              "      <td>2</td>\n",
              "      <td>&lt;device:0&gt; &lt;id:43064156&gt; &lt;result: [0.997868537902832 (N)]&gt;</td>\n",
              "    </tr>\n",
              "    <tr>\n",
              "      <th>3</th>\n",
              "      <td>3</td>\n",
              "      <td>&lt;device:0&gt; &lt;id:29402508&gt; &lt;result: [0.9924335479736328 (N)]&gt;</td>\n",
              "    </tr>\n",
              "    <tr>\n",
              "      <th>4</th>\n",
              "      <td>4</td>\n",
              "      <td>&lt;device:0&gt; &lt;id:71427879&gt; &lt;result: [0.9897157549858093 (N)]&gt;</td>\n",
              "    </tr>\n",
              "  </tbody>\n",
              "</table>\n",
              "</div>\n",
              "    <div class=\"colab-df-buttons\">\n",
              "\n",
              "  <div class=\"colab-df-container\">\n",
              "    <button class=\"colab-df-convert\" onclick=\"convertToInteractive('df-8d71a31a-0279-485c-909b-52ce79f5dcdc')\"\n",
              "            title=\"Convert this dataframe to an interactive table.\"\n",
              "            style=\"display:none;\">\n",
              "\n",
              "  <svg xmlns=\"http://www.w3.org/2000/svg\" height=\"24px\" viewBox=\"0 -960 960 960\">\n",
              "    <path d=\"M120-120v-720h720v720H120Zm60-500h600v-160H180v160Zm220 220h160v-160H400v160Zm0 220h160v-160H400v160ZM180-400h160v-160H180v160Zm440 0h160v-160H620v160ZM180-180h160v-160H180v160Zm440 0h160v-160H620v160Z\"/>\n",
              "  </svg>\n",
              "    </button>\n",
              "\n",
              "  <style>\n",
              "    .colab-df-container {\n",
              "      display:flex;\n",
              "      gap: 12px;\n",
              "    }\n",
              "\n",
              "    .colab-df-convert {\n",
              "      background-color: #E8F0FE;\n",
              "      border: none;\n",
              "      border-radius: 50%;\n",
              "      cursor: pointer;\n",
              "      display: none;\n",
              "      fill: #1967D2;\n",
              "      height: 32px;\n",
              "      padding: 0 0 0 0;\n",
              "      width: 32px;\n",
              "    }\n",
              "\n",
              "    .colab-df-convert:hover {\n",
              "      background-color: #E2EBFA;\n",
              "      box-shadow: 0px 1px 2px rgba(60, 64, 67, 0.3), 0px 1px 3px 1px rgba(60, 64, 67, 0.15);\n",
              "      fill: #174EA6;\n",
              "    }\n",
              "\n",
              "    .colab-df-buttons div {\n",
              "      margin-bottom: 4px;\n",
              "    }\n",
              "\n",
              "    [theme=dark] .colab-df-convert {\n",
              "      background-color: #3B4455;\n",
              "      fill: #D2E3FC;\n",
              "    }\n",
              "\n",
              "    [theme=dark] .colab-df-convert:hover {\n",
              "      background-color: #434B5C;\n",
              "      box-shadow: 0px 1px 3px 1px rgba(0, 0, 0, 0.15);\n",
              "      filter: drop-shadow(0px 1px 2px rgba(0, 0, 0, 0.3));\n",
              "      fill: #FFFFFF;\n",
              "    }\n",
              "  </style>\n",
              "\n",
              "    <script>\n",
              "      const buttonEl =\n",
              "        document.querySelector('#df-8d71a31a-0279-485c-909b-52ce79f5dcdc button.colab-df-convert');\n",
              "      buttonEl.style.display =\n",
              "        google.colab.kernel.accessAllowed ? 'block' : 'none';\n",
              "\n",
              "      async function convertToInteractive(key) {\n",
              "        const element = document.querySelector('#df-8d71a31a-0279-485c-909b-52ce79f5dcdc');\n",
              "        const dataTable =\n",
              "          await google.colab.kernel.invokeFunction('convertToInteractive',\n",
              "                                                    [key], {});\n",
              "        if (!dataTable) return;\n",
              "\n",
              "        const docLinkHtml = 'Like what you see? Visit the ' +\n",
              "          '<a target=\"_blank\" href=https://colab.research.google.com/notebooks/data_table.ipynb>data table notebook</a>'\n",
              "          + ' to learn more about interactive tables.';\n",
              "        element.innerHTML = '';\n",
              "        dataTable['output_type'] = 'display_data';\n",
              "        await google.colab.output.renderOutput(dataTable, element);\n",
              "        const docLink = document.createElement('div');\n",
              "        docLink.innerHTML = docLinkHtml;\n",
              "        element.appendChild(docLink);\n",
              "      }\n",
              "    </script>\n",
              "  </div>\n",
              "\n",
              "\n",
              "<div id=\"df-f1e1b60f-913b-4739-82d8-015bbfd0707d\">\n",
              "  <button class=\"colab-df-quickchart\" onclick=\"quickchart('df-f1e1b60f-913b-4739-82d8-015bbfd0707d')\"\n",
              "            title=\"Suggest charts\"\n",
              "            style=\"display:none;\">\n",
              "\n",
              "<svg xmlns=\"http://www.w3.org/2000/svg\" height=\"24px\"viewBox=\"0 0 24 24\"\n",
              "     width=\"24px\">\n",
              "    <g>\n",
              "        <path d=\"M19 3H5c-1.1 0-2 .9-2 2v14c0 1.1.9 2 2 2h14c1.1 0 2-.9 2-2V5c0-1.1-.9-2-2-2zM9 17H7v-7h2v7zm4 0h-2V7h2v10zm4 0h-2v-4h2v4z\"/>\n",
              "    </g>\n",
              "</svg>\n",
              "  </button>\n",
              "\n",
              "<style>\n",
              "  .colab-df-quickchart {\n",
              "      --bg-color: #E8F0FE;\n",
              "      --fill-color: #1967D2;\n",
              "      --hover-bg-color: #E2EBFA;\n",
              "      --hover-fill-color: #174EA6;\n",
              "      --disabled-fill-color: #AAA;\n",
              "      --disabled-bg-color: #DDD;\n",
              "  }\n",
              "\n",
              "  [theme=dark] .colab-df-quickchart {\n",
              "      --bg-color: #3B4455;\n",
              "      --fill-color: #D2E3FC;\n",
              "      --hover-bg-color: #434B5C;\n",
              "      --hover-fill-color: #FFFFFF;\n",
              "      --disabled-bg-color: #3B4455;\n",
              "      --disabled-fill-color: #666;\n",
              "  }\n",
              "\n",
              "  .colab-df-quickchart {\n",
              "    background-color: var(--bg-color);\n",
              "    border: none;\n",
              "    border-radius: 50%;\n",
              "    cursor: pointer;\n",
              "    display: none;\n",
              "    fill: var(--fill-color);\n",
              "    height: 32px;\n",
              "    padding: 0;\n",
              "    width: 32px;\n",
              "  }\n",
              "\n",
              "  .colab-df-quickchart:hover {\n",
              "    background-color: var(--hover-bg-color);\n",
              "    box-shadow: 0 1px 2px rgba(60, 64, 67, 0.3), 0 1px 3px 1px rgba(60, 64, 67, 0.15);\n",
              "    fill: var(--button-hover-fill-color);\n",
              "  }\n",
              "\n",
              "  .colab-df-quickchart-complete:disabled,\n",
              "  .colab-df-quickchart-complete:disabled:hover {\n",
              "    background-color: var(--disabled-bg-color);\n",
              "    fill: var(--disabled-fill-color);\n",
              "    box-shadow: none;\n",
              "  }\n",
              "\n",
              "  .colab-df-spinner {\n",
              "    border: 2px solid var(--fill-color);\n",
              "    border-color: transparent;\n",
              "    border-bottom-color: var(--fill-color);\n",
              "    animation:\n",
              "      spin 1s steps(1) infinite;\n",
              "  }\n",
              "\n",
              "  @keyframes spin {\n",
              "    0% {\n",
              "      border-color: transparent;\n",
              "      border-bottom-color: var(--fill-color);\n",
              "      border-left-color: var(--fill-color);\n",
              "    }\n",
              "    20% {\n",
              "      border-color: transparent;\n",
              "      border-left-color: var(--fill-color);\n",
              "      border-top-color: var(--fill-color);\n",
              "    }\n",
              "    30% {\n",
              "      border-color: transparent;\n",
              "      border-left-color: var(--fill-color);\n",
              "      border-top-color: var(--fill-color);\n",
              "      border-right-color: var(--fill-color);\n",
              "    }\n",
              "    40% {\n",
              "      border-color: transparent;\n",
              "      border-right-color: var(--fill-color);\n",
              "      border-top-color: var(--fill-color);\n",
              "    }\n",
              "    60% {\n",
              "      border-color: transparent;\n",
              "      border-right-color: var(--fill-color);\n",
              "    }\n",
              "    80% {\n",
              "      border-color: transparent;\n",
              "      border-right-color: var(--fill-color);\n",
              "      border-bottom-color: var(--fill-color);\n",
              "    }\n",
              "    90% {\n",
              "      border-color: transparent;\n",
              "      border-bottom-color: var(--fill-color);\n",
              "    }\n",
              "  }\n",
              "</style>\n",
              "\n",
              "  <script>\n",
              "    async function quickchart(key) {\n",
              "      const quickchartButtonEl =\n",
              "        document.querySelector('#' + key + ' button');\n",
              "      quickchartButtonEl.disabled = true;  // To prevent multiple clicks.\n",
              "      quickchartButtonEl.classList.add('colab-df-spinner');\n",
              "      try {\n",
              "        const charts = await google.colab.kernel.invokeFunction(\n",
              "            'suggestCharts', [key], {});\n",
              "      } catch (error) {\n",
              "        console.error('Error during call to suggestCharts:', error);\n",
              "      }\n",
              "      quickchartButtonEl.classList.remove('colab-df-spinner');\n",
              "      quickchartButtonEl.classList.add('colab-df-quickchart-complete');\n",
              "    }\n",
              "    (() => {\n",
              "      let quickchartButtonEl =\n",
              "        document.querySelector('#df-f1e1b60f-913b-4739-82d8-015bbfd0707d button');\n",
              "      quickchartButtonEl.style.display =\n",
              "        google.colab.kernel.accessAllowed ? 'block' : 'none';\n",
              "    })();\n",
              "  </script>\n",
              "</div>\n",
              "\n",
              "    </div>\n",
              "  </div>\n"
            ],
            "application/vnd.google.colaboratory.intrinsic+json": {
              "type": "dataframe",
              "variable_name": "full_sentiments",
              "summary": "{\n  \"name\": \"full_sentiments\",\n  \"rows\": 4635,\n  \"fields\": [\n    {\n      \"column\": \"RunNum\",\n      \"properties\": {\n        \"dtype\": \"number\",\n        \"std\": 1338,\n        \"min\": 0,\n        \"max\": 4634,\n        \"num_unique_values\": 4635,\n        \"samples\": [\n          807,\n          350,\n          2341\n        ],\n        \"semantic_type\": \"\",\n        \"description\": \"\"\n      }\n    },\n    {\n      \"column\": \"log\",\n      \"properties\": {\n        \"dtype\": \"string\",\n        \"num_unique_values\": 4635,\n        \"samples\": [\n          \"<device:1> <id:14680834> <result: [0.7759639024734497 (N)]>\",\n          \"<device:0> <id:23293784> <result: [0.9981065988540649 (N)]>\",\n          \"<device:0> <id:41443083> <result: [0.9981514811515808 (P)]>\"\n        ],\n        \"semantic_type\": \"\",\n        \"description\": \"\"\n      }\n    }\n  ]\n}"
            }
          },
          "metadata": {},
          "execution_count": 164
        }
      ]
    },
    {
      "cell_type": "markdown",
      "source": [
        "### Question 5a: Cleaning up Data\n",
        "\n",
        "- Create a new DataFrame `full_sentiments` that contains the `id` and `content_sentiment` (a number ranging from -1 to 1).\n",
        "\n",
        "- `content_sentiment` is based on `score`. If the label is 'N', then the score\n",
        "is multiplied by -1.\n",
        "\n",
        "**Hint 1:** Use `\\` to escape special characters (e.g., `[, (`)\n",
        "\n",
        "**Hint 2:** Don't forget to convert string to number.\n",
        "\n",
        "**Hint 3:** This question is quite involved. Try to do it step by step.\n",
        "\n",
        "\n",
        "This is what `full_sentiments` should look like:\n",
        "\n",
        "<img src = \"https://drive.google.com/thumbnail?id=1sZbnHLnaREzinlEXfRGf3737-PHVYGDN&sz=w1000\" width = \"300\">"
      ],
      "metadata": {
        "id": "p4WYSUcv-nEK"
      }
    },
    {
      "cell_type": "code",
      "source": [
        "...\n",
        "\n",
        "full_sentiments.head()"
      ],
      "metadata": {
        "id": "xjpUUpK-FCzQ"
      },
      "execution_count": null,
      "outputs": []
    },
    {
      "cell_type": "markdown",
      "source": [
        "### Question 5b - Merging\n",
        "- Merge `full_sentiments` with `msft_news_2010` and set it to `msft_scores_2010` so we can see both scores side by side.\n",
        "\n",
        "**Note:** If you run into issues when merging, you may need to reset `full_sentiments` by running the above cell again.\n",
        "\n",
        "**Hint 1**: `msft_news_2010` should have `id` as index.\n",
        "\n",
        "**Hint 2**: Check out [merge](https://pandas.pydata.org/docs/reference/api/pandas.DataFrame.merge.html) documentation."
      ],
      "metadata": {
        "id": "8Pr-maHSN6dS"
      }
    },
    {
      "cell_type": "code",
      "source": [
        "msft_scores_2010 = ...\n",
        "msft_scores_2010.head()"
      ],
      "metadata": {
        "id": "t3mjy76AOMT8"
      },
      "execution_count": null,
      "outputs": []
    },
    {
      "cell_type": "markdown",
      "source": [
        "### Question 5c - The difference\n",
        "- Calculate the difference between `content_sentiment` and `sentence_avg_normalized_sentiment`. Create a new column `sentiment_difference` in our `DataFrame` `msft_scores_2010` with `content_sentiment - sentence_avg_normalized_sentiment`.\n"
      ],
      "metadata": {
        "id": "j7Q2PSLT-9mb"
      }
    },
    {
      "cell_type": "code",
      "source": [
        "...\n",
        "msft_scores_2010.head(3)"
      ],
      "metadata": {
        "id": "YgW206-r_J0s"
      },
      "execution_count": null,
      "outputs": []
    },
    {
      "cell_type": "markdown",
      "source": [
        "### Question 5d - Plotting\n",
        "\n",
        "- Finally, create a density plot for `sentiment_difference`."
      ],
      "metadata": {
        "id": "dCLzVLwq_Mzh"
      }
    },
    {
      "cell_type": "code",
      "source": [
        "..."
      ],
      "metadata": {
        "id": "2BIyVSr6_i8_"
      },
      "execution_count": null,
      "outputs": []
    },
    {
      "cell_type": "markdown",
      "source": [
        "# Submission\n",
        "- File > Download > Download .ipynb\n",
        "- Upload to MS Teams"
      ],
      "metadata": {
        "id": "24neEPww_dcZ"
      }
    }
  ]
}
{
  "nbformat": 4,
  "nbformat_minor": 0,
  "metadata": {
    "colab": {
      "provenance": [],
      "authorship_tag": "ABX9TyMZzCf7hPKdelLsbdbZVmZB",
      "include_colab_link": true
    },
    "kernelspec": {
      "name": "python3",
      "display_name": "Python 3"
    },
    "language_info": {
      "name": "python"
    }
  },
  "cells": [
    {
      "cell_type": "markdown",
      "metadata": {
        "id": "view-in-github",
        "colab_type": "text"
      },
      "source": [
        "<a href=\"https://colab.research.google.com/github/yongsa-nut/TU_CN240_DataScience_671/blob/main/HW1.ipynb\" target=\"_parent\"><img src=\"https://colab.research.google.com/assets/colab-badge.svg\" alt=\"Open In Colab\"/></a>"
      ]
    },
    {
      "cell_type": "markdown",
      "source": [
        "# HW1: Pandas Basic\n",
        "## Due date: 30/08/2024 - 23:59."
      ],
      "metadata": {
        "id": "nG03xtmpMWjt"
      }
    },
    {
      "cell_type": "markdown",
      "source": [
        "Datasets (check github) in this homework:\n",
        "- babyname_CA.TXT\n",
        "- winemag-data-130k-v2\n",
        "\n",
        "25 questions in total. 0.2 points each. 5 points in total."
      ],
      "metadata": {
        "id": "NYE3KC0IHSq0"
      }
    },
    {
      "cell_type": "markdown",
      "source": [
        "การบ้านแบ่งเป็นสองส่วน ส่วนแรกจะเป็น Review เรื่องที่เรียน (ภาษาอังกฤษ) ส่วนที่สองจะเป็นการบ้านที่คุณจะต้องทำ\n",
        "\n",
        "เรื่องที่จะเรียนรู้ในการบ้านนี้มีดังต่อไปนี้\n",
        "- Creating `DataFrame`\n",
        "- Slicing, indexing `DataFrame`\n",
        "- Filtering Data (using Boolean Array)\n",
        "- Groupby\n",
        "\n",
        "การบ้านอาจจะดูยาว แต่มันประกอบไปด้วย tutorial ที่จะช่วยไกด์อยู่"
      ],
      "metadata": {
        "id": "cRtrcFeKNK8J"
      }
    },
    {
      "cell_type": "markdown",
      "source": [
        "Let's start by import pandas"
      ],
      "metadata": {
        "id": "S0Idoi_6fhNO"
      }
    },
    {
      "cell_type": "code",
      "source": [
        "import pandas as pd"
      ],
      "metadata": {
        "id": "K6aCE_teNxOJ"
      },
      "execution_count": null,
      "outputs": []
    },
    {
      "cell_type": "markdown",
      "source": [
        "### **REVIEW:** Creating `DataFrames` & Basic Manipulations\n",
        "\n",
        "[DataFrame](https://pandas.pydata.org/pandas-docs/stable/user_guide/dsintro.html#dataframe) is a table in which each column has a specific data type; there is an index over the columns (typically string labels) and an index over the rows (typically ordinal numbers).\n",
        "\n",
        "Usually, you'll create `DataFrames` by using a function like `pd.read_csv`.\n",
        "\n",
        "However, in this section, we'll discuss how to create them from scratch.\n",
        "\n",
        "**As part of the homework, please run every code below.**\n",
        "\n",
        "The [documentation](https://pandas.pydata.org/pandas-docs/stable/reference/api/pandas.DataFrame.html) for the `pandas` `DataFrame` class provides several constructors for the `DataFrame` class."
      ],
      "metadata": {
        "id": "kapzYGiAOCeY"
      }
    },
    {
      "cell_type": "markdown",
      "source": [
        "**Syntax 1:** You can create a `DataFrame` by specifying the columns and values using a dictionary, as shown below.\n",
        "\n",
        "The keys of the dictionary are the column names, and the values of the dictionary are lists containing the row entries."
      ],
      "metadata": {
        "id": "c01SDjs8OOts"
      }
    },
    {
      "cell_type": "code",
      "source": [
        "fruit_info = pd.DataFrame(\n",
        "    data = {'fruit': ['apple', 'orange', 'banana', 'raspberry'],\n",
        "          'color': ['red', 'orange', 'yellow', 'pink'],\n",
        "          'price': [1.0, 0.75, 0.35, 0.05]\n",
        "          })\n",
        "fruit_info"
      ],
      "metadata": {
        "id": "MSsJm0STOQ4d"
      },
      "execution_count": null,
      "outputs": []
    },
    {
      "cell_type": "markdown",
      "source": [
        "**Syntax 2:** You can also define a `DataFrame` by specifying the rows as shown below.\n",
        "\n",
        "Each row corresponds to a distinct tuple, and the columns are specified separately."
      ],
      "metadata": {
        "id": "_Ux4YvV7OXrg"
      }
    },
    {
      "cell_type": "code",
      "source": [
        "fruit_info2 = pd.DataFrame(\n",
        "    [(\"red\", \"apple\", 1.0), (\"orange\", \"orange\", 0.75), (\"yellow\", \"banana\", 0.35),\n",
        "     (\"pink\", \"raspberry\", 0.05)],\n",
        "    columns = [\"color\", \"fruit\", \"price\"])\n",
        "fruit_info2"
      ],
      "metadata": {
        "id": "5cwX0oE0OZUS"
      },
      "execution_count": null,
      "outputs": []
    },
    {
      "cell_type": "markdown",
      "source": [
        "You can obtain the dimensions of a `DataFrame` by using the shape attribute `DataFrame.shape`."
      ],
      "metadata": {
        "id": "1WElgWiiOrGI"
      }
    },
    {
      "cell_type": "code",
      "source": [
        "fruit_info.shape"
      ],
      "metadata": {
        "id": "vM_WUStkOqp4"
      },
      "execution_count": null,
      "outputs": []
    },
    {
      "cell_type": "markdown",
      "source": [
        "### **REVIEW:** Selecting Rows and Columns in `pandas`"
      ],
      "metadata": {
        "id": "1Ex9793WO5uf"
      }
    },
    {
      "cell_type": "markdown",
      "source": [
        "As you've seen in lecture and discussion, there are two verbose operators in Python for selecting rows: `loc` and `iloc`. Let's review them briefly."
      ],
      "metadata": {
        "id": "CyA0tKYzO6w5"
      }
    },
    {
      "cell_type": "markdown",
      "source": [
        "**Approach 1:** `loc`"
      ],
      "metadata": {
        "id": "wSxfmweAO8ab"
      }
    },
    {
      "cell_type": "markdown",
      "source": [
        "The first of the two verbose operators is `loc`, which takes two arguments.\n",
        "\n",
        "- The first is one or more **row labels**.\n",
        "- The second is one or more **column labels** - both of which are displayed in bold to the left of each of the rows and above each of the columns, respectively.\n",
        "\n",
        "These are not the same as positional indices, which are used for indexing Python lists!\n",
        "\n",
        "The desired rows or columns can be provided individually, in slice notation, or as a list. Some examples are given below.\n",
        "\n",
        "Note that **slicing in `loc` is inclusive** on the provided labels."
      ],
      "metadata": {
        "id": "IiUBHaE_O-DM"
      }
    },
    {
      "cell_type": "code",
      "source": [
        "# Get rows 0 through 2 (inclusive) with labels 'fruit' through 'price' (which would include the color column that is in between both labels)\n",
        "fruit_info.loc[0:2, 'fruit':'price']"
      ],
      "metadata": {
        "id": "T_n8Pt1nPIZ8"
      },
      "execution_count": null,
      "outputs": []
    },
    {
      "cell_type": "code",
      "source": [
        "# Get rows 0 through 2 (inclusive) and columns 'fruit' and 'price'.\n",
        "# Note the difference in notation and result from the previous example.\n",
        "fruit_info.loc[0:2, ['fruit', 'price']]"
      ],
      "metadata": {
        "id": "szLln_eXPJmw"
      },
      "execution_count": null,
      "outputs": []
    },
    {
      "cell_type": "code",
      "source": [
        "# Get rows 0 and 2 and columns fruit and price.\n",
        "fruit_info.loc[[0, 2], ['fruit', 'price']]"
      ],
      "metadata": {
        "id": "5aEhd5YbPKxO"
      },
      "execution_count": null,
      "outputs": []
    },
    {
      "cell_type": "code",
      "source": [
        "# Get rows 0 and 2 and column fruit\n",
        "fruit_info.loc[[0, 2], ['fruit']]"
      ],
      "metadata": {
        "id": "-uqAVH_SPLot"
      },
      "execution_count": null,
      "outputs": []
    },
    {
      "cell_type": "markdown",
      "source": [
        "Note that if we request a single column but don't enclose it in a list, the return type of the `loc` operator is a `Series` rather than a `DataFrame`."
      ],
      "metadata": {
        "id": "QfQIL_2JPNq9"
      }
    },
    {
      "cell_type": "code",
      "source": [
        "# Get rows 0 and 2 and column fruit, returning the result as a Series\n",
        "fruit_info.loc[[0, 2], 'fruit']"
      ],
      "metadata": {
        "id": "2MgOW4LtPPku"
      },
      "execution_count": null,
      "outputs": []
    },
    {
      "cell_type": "markdown",
      "source": [
        "If we provide only one argument to `loc`, it uses the provided argument to select rows, and returns all columns."
      ],
      "metadata": {
        "id": "4GrOt71bPSPI"
      }
    },
    {
      "cell_type": "code",
      "source": [
        "fruit_info.loc[0:1]"
      ],
      "metadata": {
        "id": "FOtRilBRPTLP"
      },
      "execution_count": null,
      "outputs": []
    },
    {
      "cell_type": "markdown",
      "source": [
        "Note that if you try to access columns without providing rows, `loc` will crash."
      ],
      "metadata": {
        "id": "SEWdjfDCPXuF"
      }
    },
    {
      "cell_type": "code",
      "source": [
        "# Uncomment, this code will crash\n",
        "#fruit_info.loc[[\"fruit\", \"price\"]]\n",
        "\n",
        "# Uncomment, this code works fine:\n",
        "#fruit_info.loc[:, [\"fruit\", \"price\"]]"
      ],
      "metadata": {
        "id": "js1tnFGiPXUT"
      },
      "execution_count": null,
      "outputs": []
    },
    {
      "cell_type": "markdown",
      "source": [
        "<br/>\n",
        "\n",
        "**Approach 2:** `iloc`\n",
        "\n",
        "`iloc` is very similar to `loc` except that its arguments are **row numbers** and **column numbers**, rather than row and column labels. A useful mnemonic is that the `i` stands for \"integer\".\n",
        "\n",
        "In addition, **slicing for `iloc` is exclusive** on the provided integer indices. Some examples are given below:"
      ],
      "metadata": {
        "id": "XfTQbIVzPbWU"
      }
    },
    {
      "cell_type": "code",
      "source": [
        "# Get rows 0 through 3 (exclusive) and columns 0 through 3 (exclusive)\n",
        "fruit_info.iloc[0:3, 0:3]"
      ],
      "metadata": {
        "id": "5Df1mLDOPbKY"
      },
      "execution_count": null,
      "outputs": []
    },
    {
      "cell_type": "code",
      "source": [
        "# Get rows 0 through 3 (exclusive) and columns 0 and 2.\n",
        "fruit_info.iloc[0:3, [0, 2]]"
      ],
      "metadata": {
        "id": "Wi1w7utRPmno"
      },
      "execution_count": null,
      "outputs": []
    },
    {
      "cell_type": "code",
      "source": [
        "# Get rows 0 and 2 and columns 0 and 2.\n",
        "fruit_info.iloc[[0, 2], [0, 2]]"
      ],
      "metadata": {
        "id": "_nuL-3zYPniS"
      },
      "execution_count": null,
      "outputs": []
    },
    {
      "cell_type": "code",
      "source": [
        "# Get rows 0 and 2 and column fruit\n",
        "fruit_info.iloc[[0, 2], [0]]"
      ],
      "metadata": {
        "id": "JOJ-1ytaPoaA"
      },
      "execution_count": null,
      "outputs": []
    },
    {
      "cell_type": "code",
      "source": [
        "# Get rows 0 and 2 and column fruit\n",
        "fruit_info.iloc[[0, 2], 0]"
      ],
      "metadata": {
        "id": "AaP0ImKQPpJW"
      },
      "execution_count": null,
      "outputs": []
    },
    {
      "cell_type": "markdown",
      "source": [
        "Note that in these `loc` and `iloc` examples above, the row **label** and row **number** were always the same.\n",
        "\n",
        "Let's see an example where they are different. If we sort our fruits by price, we get:"
      ],
      "metadata": {
        "id": "Rcqf3cllPs3L"
      }
    },
    {
      "cell_type": "code",
      "source": [
        "fruit_info_sorted = fruit_info.sort_values(\"price\")\n",
        "fruit_info_sorted"
      ],
      "metadata": {
        "id": "4vddI86TPv1U"
      },
      "execution_count": null,
      "outputs": []
    },
    {
      "cell_type": "markdown",
      "source": [
        "After sorting, note how row number 0 now has index label 3, row number 1 now has index label 2, etc. These indices are the arbitrary numerical indices generated when we created the `DataFrame`. For example, `banana` was originally in row 2, and so it has row label 2. Note the distinction between the index _label_, and the actual index _position_."
      ],
      "metadata": {
        "id": "kDQItO9fPxhe"
      }
    },
    {
      "cell_type": "markdown",
      "source": [
        "If we request the rows in positions 0 and 2 using `iloc`, we're indexing using the row NUMBERS, not labels."
      ],
      "metadata": {
        "id": "qjjo8nM-P3Ce"
      }
    },
    {
      "cell_type": "code",
      "source": [
        "fruit_info_sorted.iloc[[0, 2], 0]"
      ],
      "metadata": {
        "id": "mV2E2FTAP3z_"
      },
      "execution_count": null,
      "outputs": []
    },
    {
      "cell_type": "markdown",
      "source": [
        "Lastly, similar to `loc`, the second argument to `iloc` is optional. That is, if you provide only one argument to `iloc`, it treats the argument you provide as a set of desired row numbers, not column numbers."
      ],
      "metadata": {
        "id": "SwvApRQJP4_8"
      }
    },
    {
      "cell_type": "code",
      "source": [
        "fruit_info_sorted.iloc[[0, 2]]"
      ],
      "metadata": {
        "id": "gREF__MaP59J"
      },
      "execution_count": null,
      "outputs": []
    },
    {
      "cell_type": "markdown",
      "source": [
        "**Approach 3:** `[]` Notation for Accessing Rows and Columns"
      ],
      "metadata": {
        "id": "EjHRdzDSP75q"
      }
    },
    {
      "cell_type": "markdown",
      "source": [
        "`pandas` also supports the `[]` operator. It's similar to `loc` in that it lets you access rows and columns by their name.\n",
        "\n",
        "However, unlike `loc`, which takes row names and also optionally column names, `[]` is more flexible. If you provide it only row names, it'll give you rows (same behavior as `loc`), and if you provide it with only column names, it'll give you columns (whereas `loc` will crash).\n",
        "\n",
        "Some examples:"
      ],
      "metadata": {
        "id": "PDtyfav4P9X8"
      }
    },
    {
      "cell_type": "code",
      "source": [
        "fruit_info[0:2]"
      ],
      "metadata": {
        "id": "L9ee_gKiP9B4"
      },
      "execution_count": null,
      "outputs": []
    },
    {
      "cell_type": "code",
      "source": [
        "# Here we're providing a list of fruits as single argument to []\n",
        "fruit_info[[\"fruit\", \"color\", \"price\"]]"
      ],
      "metadata": {
        "id": "qTEYJh4VQHyt"
      },
      "execution_count": null,
      "outputs": []
    },
    {
      "cell_type": "markdown",
      "source": [
        "Note that slicing notation is not supported for columns if you use `[]` notation. Use `loc` instead."
      ],
      "metadata": {
        "id": "31MnAqoLQKgX"
      }
    },
    {
      "cell_type": "code",
      "source": [
        "# Uncomment and this code crashes\n",
        "#fruit_info[\"fruit\":\"price\"]\n",
        "\n",
        "# Uncomment and this works fine\n",
        "#fruit_info.loc[:, \"fruit\":\"price\"]"
      ],
      "metadata": {
        "id": "uP49LzzrQLQy"
      },
      "execution_count": null,
      "outputs": []
    },
    {
      "cell_type": "markdown",
      "source": [
        "**Approach 4**: `.` Notation for Accessing a column\n",
        "\n",
        "- **Syntax**: `df.column_name` to access the column name"
      ],
      "metadata": {
        "id": "iqCkUaEm4sVJ"
      }
    },
    {
      "cell_type": "code",
      "source": [
        "fruit_info.fruit"
      ],
      "metadata": {
        "id": "DXaGBjUl44Wt"
      },
      "execution_count": null,
      "outputs": []
    },
    {
      "cell_type": "markdown",
      "source": [
        "\n",
        "---\n",
        "\n"
      ],
      "metadata": {
        "id": "9AOB6d1xQSuR"
      }
    },
    {
      "cell_type": "markdown",
      "source": [
        "### Question 1a\n",
        "\n",
        "For a `DataFrame` `d`, you can add a column with `d['new column name'] = ...` and assign a `list` or `array` of values to the column.\n",
        "\n",
        "Add a column of integers containing 1, 2, 3, and 4 called `rank1` to the `fruit_info` table, which expresses **your personal preference** about the taste ordering for each fruit (1 is tastiest; 4 is least tasty). There is no right order, it is completely your choice of rankings.\n"
      ],
      "metadata": {
        "id": "0k4CU6TNQY8C"
      }
    },
    {
      "cell_type": "code",
      "source": [
        "...                  # Fill in your code here\n",
        "fruit_info"
      ],
      "metadata": {
        "id": "XSWWaa4FQocm"
      },
      "execution_count": null,
      "outputs": []
    },
    {
      "cell_type": "markdown",
      "source": [
        "<br/>\n",
        "\n",
        "---\n",
        "\n",
        "### Question 1b\n",
        "\n",
        "You can also add a column to `d` with `d.loc[:, 'new column name'] = ...`. As above, the first parameter is for the rows, and the second is for columns. The `:` means changing all rows, and the `'new column name'` indicates the name of the column you are modifying (or, in this case, adding).\n",
        "\n",
        "Add a column called `rank2` to the `fruit_info` table, which contains the same values in the same order as the `rank1` column.\n"
      ],
      "metadata": {
        "id": "XPhl0RwhTnVr"
      }
    },
    {
      "cell_type": "code",
      "source": [
        "...\n",
        "fruit_info"
      ],
      "metadata": {
        "id": "e5b59BeqTqg9"
      },
      "execution_count": null,
      "outputs": []
    },
    {
      "cell_type": "markdown",
      "source": [
        "<br/>\n",
        "\n",
        "---\n",
        "\n",
        "### Question 1c\n",
        "\n",
        "Use the `.drop()` method to [drop](https://pandas.pydata.org/pandas-docs/stable/reference/api/pandas.DataFrame.drop.html) both the `rank1` and `rank2` columns you created. Make sure to use the `axis` parameter correctly.\n",
        "\n",
        "Note that `drop` does not change a table but instead **returns a new table** with fewer columns or rows unless you set the optional `inplace` argument.\n",
        "\n",
        "**Hint:** Look through the [documentation](https://pandas.pydata.org/docs/reference/api/pandas.DataFrame.drop.html) to see how you can drop multiple columns of a `DataFrame` at once using a list of column names.\n"
      ],
      "metadata": {
        "id": "fdQA8hm3T1C3"
      }
    },
    {
      "cell_type": "code",
      "source": [
        "fruit_info_original = ...\n",
        "fruit_info_original"
      ],
      "metadata": {
        "id": "dlslZmZlT4RW"
      },
      "execution_count": null,
      "outputs": []
    },
    {
      "cell_type": "markdown",
      "source": [
        "<br/>\n",
        "\n",
        "---\n",
        "\n",
        "### Question 1d\n",
        "\n",
        "Use the `.rename()` method to rename the columns of `fruit_info_original` so they begin with capital letters. Set this new `DataFrame` to `fruit_info_caps`.\n",
        "\n",
        "For an example of how to use rename, see this linked [documentation](https://pandas.pydata.org/pandas-docs/stable/reference/api/pandas.DataFrame.rename.html)."
      ],
      "metadata": {
        "id": "nNggSFc6UBNs"
      }
    },
    {
      "cell_type": "code",
      "source": [
        "...\n",
        "fruit_info_caps"
      ],
      "metadata": {
        "id": "XCxLDIIVUDhi"
      },
      "execution_count": null,
      "outputs": []
    },
    {
      "cell_type": "markdown",
      "source": [
        "<br/>\n",
        "\n",
        "### Creating your own DataFrame"
      ],
      "metadata": {
        "id": "lFz9gRqUc7E2"
      }
    },
    {
      "cell_type": "markdown",
      "source": [
        "### Question 2a\n",
        "\n",
        "In the cell below, create a DataFrame `fruits` that looks like this:\n",
        "\n",
        "![](https://storage.googleapis.com/kaggle-media/learn/images/Ax3pp2A.png)"
      ],
      "metadata": {
        "id": "PtLCArr9dBzp"
      }
    },
    {
      "cell_type": "code",
      "source": [
        "fruits = ...\n",
        "fruits"
      ],
      "metadata": {
        "id": "ABp41PO6dKgJ"
      },
      "execution_count": null,
      "outputs": []
    },
    {
      "cell_type": "markdown",
      "source": [
        "### Question 2b\n",
        "\n",
        "Create a dataframe `fruit_sales` that matches the diagram below:\n",
        "\n",
        "![](https://storage.googleapis.com/kaggle-media/learn/images/CHPn7ZF.png)"
      ],
      "metadata": {
        "id": "CO6nS0k2dOpG"
      }
    },
    {
      "cell_type": "code",
      "source": [
        "fruit_sales = ...\n",
        "fruit_sales"
      ],
      "metadata": {
        "id": "Sku-54ULdSBt"
      },
      "execution_count": null,
      "outputs": []
    },
    {
      "cell_type": "markdown",
      "source": [
        "### Question 2c\n",
        "\n",
        "Create a variable `ingredients` with a Series that looks like:\n",
        "\n",
        "```\n",
        "Flour     4 cups\n",
        "Milk       1 cup\n",
        "Eggs     2 large\n",
        "Spam       1 can\n",
        "Name: Dinner, dtype: object\n",
        "```"
      ],
      "metadata": {
        "id": "Z4RtX79zdaAX"
      }
    },
    {
      "cell_type": "code",
      "source": [
        "ingredients = ...\n",
        "ingredients"
      ],
      "metadata": {
        "id": "-p9tNsgXddDL"
      },
      "execution_count": null,
      "outputs": []
    },
    {
      "cell_type": "markdown",
      "source": [
        "<br/>\n",
        "\n",
        "### Babynames Dataset\n",
        "For the next few questions, we'll be using the babynames dataset. The babynames dataset contains a record of the given names of babies born in the United States each year.\n",
        "\n",
        "Let's run the following cells to build the `DataFrame` `babynames`.\n",
        "**Note**: You will need to upload the data first!\n"
      ],
      "metadata": {
        "id": "I6FPc-8EVKlx"
      }
    },
    {
      "cell_type": "code",
      "source": [
        "file_path = '/content/babyname_CA.TXT'\n",
        "column_labels = ['State', 'Sex', 'Year', 'Name', 'Count']\n",
        "\n",
        "babynames = pd.read_csv(file_path, names=column_labels)"
      ],
      "metadata": {
        "id": "9niApuZqXPBK"
      },
      "execution_count": null,
      "outputs": []
    },
    {
      "cell_type": "markdown",
      "source": [
        "Let's explore the dataset first."
      ],
      "metadata": {
        "id": "uL8zZr6kXY1C"
      }
    },
    {
      "cell_type": "code",
      "source": [
        "babynames.head()"
      ],
      "metadata": {
        "id": "V4RoaHivXcnB"
      },
      "execution_count": null,
      "outputs": []
    },
    {
      "cell_type": "code",
      "source": [
        "babynames.shape   # Should be (413894, 5)"
      ],
      "metadata": {
        "id": "D-eJJkDEXdlt"
      },
      "execution_count": null,
      "outputs": []
    },
    {
      "cell_type": "markdown",
      "source": [
        "#### Selection Examples on Baby Names\n",
        "\n",
        "As with our synthetic fruit dataset, we can use `loc` and `iloc` to select rows and columns of interest from our dataset."
      ],
      "metadata": {
        "id": "-a1nyqsPXmu8"
      }
    },
    {
      "cell_type": "code",
      "source": [
        "babynames.loc[2:5, 'Name']"
      ],
      "metadata": {
        "id": "p9uEexF-XqDq"
      },
      "execution_count": null,
      "outputs": []
    },
    {
      "cell_type": "markdown",
      "source": [
        "Notice the difference between the following cell and the previous one; just passing in `'Name'` returns a `Series` while `['Name']` returns a `DataFrame`."
      ],
      "metadata": {
        "id": "K_zELsRnXrqn"
      }
    },
    {
      "cell_type": "code",
      "source": [
        "babynames.loc[2:5, ['Name']]"
      ],
      "metadata": {
        "id": "lFP9jIpRXsxs"
      },
      "execution_count": null,
      "outputs": []
    },
    {
      "cell_type": "markdown",
      "source": [
        "The code below collects the rows in positions 1 through 3, and the column in position 3 (\"Name\")."
      ],
      "metadata": {
        "id": "0ievbUhvXuIX"
      }
    },
    {
      "cell_type": "code",
      "source": [
        "babynames.iloc[1:4, [3]]"
      ],
      "metadata": {
        "id": "EbRr5uUwXrPe"
      },
      "execution_count": null,
      "outputs": []
    },
    {
      "cell_type": "markdown",
      "source": [
        "<br/>\n",
        "\n",
        "---\n",
        "\n",
        "### Question 3a\n",
        "\n",
        "Use `.loc` to select `Name` and `Year` **in that order** from the `babynames` table.\n"
      ],
      "metadata": {
        "id": "Y37E4nFsX03z"
      }
    },
    {
      "cell_type": "code",
      "source": [
        "name_and_year = ...\n",
        "name_and_year[:5]"
      ],
      "metadata": {
        "id": "74SJsOiSX3m-"
      },
      "execution_count": null,
      "outputs": []
    },
    {
      "cell_type": "markdown",
      "source": [
        "<br/>\n",
        "\n",
        "---\n",
        "\n",
        "### Question 3b\n",
        "Now repeat the same selection using the plain `[]` notation."
      ],
      "metadata": {
        "id": "NS70oh-UX5vj"
      }
    },
    {
      "cell_type": "code",
      "source": [
        "name_and_year = ...\n",
        "name_and_year[:5]"
      ],
      "metadata": {
        "id": "EAwPpdCAX7xl"
      },
      "execution_count": null,
      "outputs": []
    },
    {
      "cell_type": "markdown",
      "source": [
        "### **REVIEW**: Filtering with boolean arrays\n",
        "\n",
        "Filtering is the process of removing unwanted entries. In your quest for cleaner data, you will undoubtedly filter your data at some point: whether it be for clearing up cases with missing values, for culling out fishy outliers, or for analyzing subgroups of your dataset. Example usage looks like `df[df['column name'] < 5]`.\n",
        "\n",
        "For your reference, some commonly used comparison operators are given below.\n",
        "\n",
        "Symbol | Usage      | Meaning\n",
        "------ | ---------- | -------------------------------------\n",
        "==   | a == b   | Does a equal b?\n",
        "<=   | a <= b   | Is a less than or equal to b?\n",
        "&gt;=   | a >= b   | Is a greater than or equal to b?\n",
        "<    | a < b    | Is a less than b?\n",
        "&#62;    | a &#62; b    | Is a greater than b?\n",
        "~    | ~p       | Returns negation of p\n",
        "&#124; | p &#124; q | p OR q\n",
        "&    | p & q    | p AND q\n",
        "^  | p ^ q | p XOR q (exclusive or)"
      ],
      "metadata": {
        "id": "JF_8E-WWX9yb"
      }
    },
    {
      "cell_type": "markdown",
      "source": [
        "As an example, in the following, we construct a `DataFrame` containing only rows where the name is Arman."
      ],
      "metadata": {
        "id": "EYNVtLBGX_4H"
      }
    },
    {
      "cell_type": "code",
      "source": [
        "arman_babynames = babynames[babynames['Name'] == 'Arman']\n",
        "arman_babynames.head(5)"
      ],
      "metadata": {
        "id": "iQR7I94ZYA1u"
      },
      "execution_count": null,
      "outputs": []
    },
    {
      "cell_type": "markdown",
      "source": [
        "<br>\n",
        "\n",
        "---\n",
        "### Question 3c\n",
        "Using a boolean array, select the names in Year 2000 (from `babynames`) that have larger than 3000 counts. Keep all columns from the original `babynames` `DataFrame`.\n",
        "\n",
        "_Note_: Note that compound expressions have to be grouped with parentheses. That is, any time you use `p & q` to filter the `DataFrame`, make sure to use `df[(df[p]) & (df[q])]` or `df.loc[(df[p]) & (df[q])]`.\n",
        "\n",
        "You may use either `[]` or `loc`. Both will achieve the same result. For more on `[]` vs. `loc`, see the stack overflow links from the intro portion of this lab."
      ],
      "metadata": {
        "id": "f6Gj8-RqYX6-"
      }
    },
    {
      "cell_type": "code",
      "source": [
        "result = ...\n",
        "result.head()"
      ],
      "metadata": {
        "id": "Cf_gfpOmYeqo"
      },
      "execution_count": null,
      "outputs": []
    },
    {
      "cell_type": "markdown",
      "source": [
        "### **REVIEW:** `str`\n",
        "\n",
        "`pandas` provides special purpose functions for working with specific common data types such as strings and dates. For example, the code below provides the length of every baby's name from our `babynames` dataset."
      ],
      "metadata": {
        "id": "62V6QiRbYjmP"
      }
    },
    {
      "cell_type": "code",
      "source": [
        "babynames['Name'].str.len()"
      ],
      "metadata": {
        "id": "37xhku3NYurd"
      },
      "execution_count": null,
      "outputs": []
    },
    {
      "cell_type": "markdown",
      "source": [
        "<br/>\n",
        "\n",
        "---\n",
        "\n",
        "### Question 4a"
      ],
      "metadata": {
        "id": "33a6i-aOYxK_"
      }
    },
    {
      "cell_type": "markdown",
      "source": [
        "Add a column to `babynames` named `First Letter` that contains the first letter of each baby's name.\n",
        "\n",
        "Hint: you can index using `.str` similarly to how you'd normally index Python strings. Or, you can use `.str.get` [(documentation here)](https://pandas.pydata.org/docs/reference/api/pandas.Series.str.get.html)."
      ],
      "metadata": {
        "id": "XcsSherxY0yG"
      }
    },
    {
      "cell_type": "code",
      "source": [
        "...\n",
        "babynames"
      ],
      "metadata": {
        "id": "JTNNX5C4Y0gw"
      },
      "execution_count": null,
      "outputs": []
    },
    {
      "cell_type": "markdown",
      "source": [
        "<br/>\n",
        "\n",
        "---\n",
        "\n",
        "### Question 4b"
      ],
      "metadata": {
        "id": "9KfGEr29Y4ft"
      }
    },
    {
      "cell_type": "markdown",
      "source": [
        "In 2022, how many babies had names that started with the letter \"A\"?"
      ],
      "metadata": {
        "id": "OQ4pCMj7Y-WO"
      }
    },
    {
      "cell_type": "code",
      "source": [
        "babynames_2022 = ...\n",
        "just_A_names_2022 = ...\n",
        "number_A_names = ...\n",
        "number_A_names"
      ],
      "metadata": {
        "id": "inCACGQnY_UI"
      },
      "execution_count": null,
      "outputs": []
    },
    {
      "cell_type": "markdown",
      "source": [
        "### Wine Reviews dataset\n",
        "\n",
        "In the next few questions, we will use `Wine Reviews dataset` to practice more indexing, selecting, and assigning.\n",
        "\n",
        "For this set of questions, you are free to use any methods that we learn."
      ],
      "metadata": {
        "id": "ZQ_lEQ315lpm"
      }
    },
    {
      "cell_type": "code",
      "source": [
        "reviews = pd.read_csv(\"/content/winemag-data-130k-v2.csv\", index_col=0)\n",
        "reviews.head()"
      ],
      "metadata": {
        "id": "U7U0tV-76SPI"
      },
      "execution_count": null,
      "outputs": []
    },
    {
      "cell_type": "markdown",
      "source": [
        "### Question 5a\n",
        "\n",
        "Select the first value from the `description` column of `reviews`, assigning it to variable `first_description`.\n",
        "\n",
        "The expected answer is\n",
        "```\n",
        "Aromas include tropical fruit, broom, brimstone and dried herb. The palate isn't overly expressive, offering unripened apple, citrus and dried sage alongside brisk acidity.\n",
        "```"
      ],
      "metadata": {
        "id": "oYvv0BGb6kPt"
      }
    },
    {
      "cell_type": "code",
      "source": [
        "first_description =  ...\n",
        "first_description"
      ],
      "metadata": {
        "id": "TL7R15S66riZ"
      },
      "execution_count": null,
      "outputs": []
    },
    {
      "cell_type": "markdown",
      "source": [
        "### Question 5b\n",
        "\n",
        "Select the first row of data (the first record) from `reviews`, assigning it to the variable `first_row`."
      ],
      "metadata": {
        "id": "zqDy5bVf630t"
      }
    },
    {
      "cell_type": "code",
      "source": [
        "first_row = ...\n",
        "first_row"
      ],
      "metadata": {
        "id": "uA-vb-hA68G6"
      },
      "execution_count": null,
      "outputs": []
    },
    {
      "cell_type": "markdown",
      "source": [
        "### Question 5c\n",
        "\n",
        "Create a variable `df` containing the `country`, `province`, `region_1`, and `region_2` columns of the records with the index labels `0`, `1`, `10`, and `100`. In other words, generate the following DataFrame:\n",
        "\n",
        "![](https://storage.googleapis.com/kaggle-media/learn/images/FUCGiKP.png)"
      ],
      "metadata": {
        "id": "oyRY2GCB7UO2"
      }
    },
    {
      "cell_type": "code",
      "source": [
        "df = ...\n",
        "df"
      ],
      "metadata": {
        "id": "czc8VVZ67Xep"
      },
      "execution_count": null,
      "outputs": []
    },
    {
      "cell_type": "markdown",
      "source": [
        "### Question 5d\n",
        "\n",
        "Create a variable `df` containing the `country` and `variety` columns of the first 100 records."
      ],
      "metadata": {
        "id": "ndldhGhw7ePb"
      }
    },
    {
      "cell_type": "code",
      "source": [
        "df = ...\n",
        "df"
      ],
      "metadata": {
        "id": "yUU5ryAE7hWQ"
      },
      "execution_count": null,
      "outputs": []
    },
    {
      "cell_type": "markdown",
      "source": [
        "### Question 5e\n",
        "\n",
        "Create a DataFrame `italian_wines` containing reviews of wines made in `Italy`"
      ],
      "metadata": {
        "id": "0IRl95Kz7ihY"
      }
    },
    {
      "cell_type": "code",
      "source": [
        "italian_wines = ...\n",
        "italian_wines"
      ],
      "metadata": {
        "id": "6_wsqkJD7oH6"
      },
      "execution_count": null,
      "outputs": []
    },
    {
      "cell_type": "markdown",
      "source": [
        "### Question 5f\n",
        "\n",
        "Create a DataFrame `top_oceania_wines` containing all reviews with at least 95 points (out of 100) for wines from Australia or New Zealand."
      ],
      "metadata": {
        "id": "JZN6lnQY7uTB"
      }
    },
    {
      "cell_type": "code",
      "source": [
        "top_oceania_wines = ...\n",
        "top_oceania_wines"
      ],
      "metadata": {
        "id": "ZM3t4FEt7wze"
      },
      "execution_count": null,
      "outputs": []
    },
    {
      "cell_type": "markdown",
      "source": [
        "## More Wine Reviews with useful functions\n",
        "\n",
        "We will continue using wine reviews dataset to practice various useful functions.\n",
        "\n"
      ],
      "metadata": {
        "id": "fcWdUrp-8fRy"
      }
    },
    {
      "cell_type": "code",
      "source": [
        "#Let's review the wine reviews data again\n",
        "reviews.head()"
      ],
      "metadata": {
        "id": "0NPD6A2U8tIF"
      },
      "execution_count": null,
      "outputs": []
    },
    {
      "cell_type": "markdown",
      "source": [
        "### Question 6a\n",
        "\n",
        "What is the median of the `points` column in the `reviews` DataFrame? You may find this [documentation](https://pandas.pydata.org/pandas-docs/stable/reference/api/pandas.DataFrame.median.html) useful."
      ],
      "metadata": {
        "id": "fH0O1gEs895d"
      }
    },
    {
      "cell_type": "code",
      "source": [
        "median_points = ...\n",
        "median_points"
      ],
      "metadata": {
        "id": "FCFE1N1v9LxP"
      },
      "execution_count": null,
      "outputs": []
    },
    {
      "cell_type": "markdown",
      "source": [
        "### Question 6b\n",
        "\n",
        "What countries are represented in the dataset? (Your answer should not include any duplicates.)"
      ],
      "metadata": {
        "id": "vbQkJnbF9TkJ"
      }
    },
    {
      "cell_type": "code",
      "source": [
        "countries = ..."
      ],
      "metadata": {
        "id": "Uolk4ghA9YMx"
      },
      "execution_count": null,
      "outputs": []
    },
    {
      "cell_type": "markdown",
      "source": [
        "### Question 6c\n",
        "\n",
        "How often does each country appear in the dataset? Create a Series `reviews_per_country` mapping countries to the count of reviews of wines from that country."
      ],
      "metadata": {
        "id": "hI0SBu_R9doi"
      }
    },
    {
      "cell_type": "code",
      "source": [
        "reviews_per_country = ...\n",
        "reviews_per_country"
      ],
      "metadata": {
        "id": "hlATjosy9g3v"
      },
      "execution_count": null,
      "outputs": []
    },
    {
      "cell_type": "markdown",
      "source": [
        "### Question 6d\n",
        "\n",
        "Create variable `centered_price` containing a version of the `price` column with the mean price subtracted.\n",
        "\n",
        "(Note: this 'centering' transformation is a common preprocessing step before applying various machine learning algorithms.)\n",
        "\n",
        "Output should look something liek this:\n",
        "```\n",
        "0               NaN\n",
        "1        -20.363389\n",
        "            ...    \n",
        "129969    -3.363389\n",
        "129970   -14.363389\n",
        "Name: price, Length: 129971, dtype: float64\n",
        "```"
      ],
      "metadata": {
        "id": "KVIJ_Csl9jYv"
      }
    },
    {
      "cell_type": "code",
      "source": [
        "centered_price = ...\n",
        "centered_price"
      ],
      "metadata": {
        "id": "PpzEApkL9phv"
      },
      "execution_count": null,
      "outputs": []
    },
    {
      "cell_type": "markdown",
      "source": [
        "### Question 6e\n",
        "\n",
        "Create a new Series `bargain_wine` containing the points-to-price ratio (points/price) in the dataset sorted from **highest to lowest**.\n",
        "\n",
        "Expected answer:\n",
        "\n",
        "<img src= 'https://drive.google.com/thumbnail?id=1GD9-Ci1ThC9xTmhbqekGocU7dT2pelaF&sz=w1000' height = 400></img>"
      ],
      "metadata": {
        "id": "wSstD1ek-FRW"
      }
    },
    {
      "cell_type": "code",
      "source": [
        "bargain_wine = (reviews['points']/reviews['price']).sort_values(ascending = False)\n",
        "bargain_wine"
      ],
      "metadata": {
        "id": "tWu9qSNn-Ie0"
      },
      "execution_count": null,
      "outputs": []
    },
    {
      "cell_type": "markdown",
      "source": [
        "### **REVIEW:** `Groupby`\n",
        "\n",
        "- You can `groupby` a specific column, e.g., `country`. This will give you 'DataFrameGroupby' object.\n",
        "- You then will need to aggregate each group using an aggregation function.\n"
      ],
      "metadata": {
        "id": "KTeFNcPhas3C"
      }
    },
    {
      "cell_type": "markdown",
      "source": [
        "The code below show how to create a `DataFrame` by grouping `country` and calculate the mean of price within group.\n",
        "1. First you grab only 'country' and 'price' columns.\n",
        "2. Then you group y 'country'\n",
        "3. Finally, you call `agg('mean')` or `.mean()`"
      ],
      "metadata": {
        "id": "wh1xXCqVcUhV"
      }
    },
    {
      "cell_type": "code",
      "source": [
        "mean_price_country = reviews[['country','price']].groupby('country').agg('mean') # or .mean()\n",
        "mean_price_country"
      ],
      "metadata": {
        "id": "pAnVi1qSYIht"
      },
      "execution_count": null,
      "outputs": []
    },
    {
      "cell_type": "markdown",
      "source": [
        "- You cannot apply `mean` to columns that are not numeric so if you want to apply mean to only numeric columns, you must specify `numeric_only = True`"
      ],
      "metadata": {
        "id": "brkfa_r0biMV"
      }
    },
    {
      "cell_type": "code",
      "source": [
        "mean_country = reviews.groupby('country').agg('mean', numeric_only=True) # or .mean()\n",
        "mean_country"
      ],
      "metadata": {
        "id": "o-ClfiSmb8S1"
      },
      "execution_count": null,
      "outputs": []
    },
    {
      "cell_type": "markdown",
      "source": [
        "### Question 7a\n",
        "\n",
        "What are the minimum prices for each `variety` of wine? Create a `DataFrame` whose index is the `variety` category from the dataset and whose values are the `min`.\n",
        "\n",
        "\n",
        "Expected answer:\n",
        "\n",
        "<img src= 'https://drive.google.com/thumbnail?id=1S_dZ0I1UpWUmORI8L2u_p5q7zmcMOXQd&sz=w1000' height = 400></img>"
      ],
      "metadata": {
        "id": "G1nRj_4zF9c9"
      }
    },
    {
      "cell_type": "code",
      "source": [
        "price_mins =  ...\n",
        "price_mins"
      ],
      "metadata": {
        "id": "sNwlRSB2GISc"
      },
      "execution_count": null,
      "outputs": []
    },
    {
      "cell_type": "markdown",
      "source": [
        "### Question 7b\n",
        "\n",
        "Who are the most common wine reviewers in the dataset? Use `.size()` or `.agg('size')` ([documentation](https://pandas.pydata.org/docs/reference/api/pandas.core.groupby.DataFrameGroupBy.size.html)) as an aggregation function to create a `Series` whose index is the `taster_twitter_handle` category from the dataset, and whose values count how many reviews each person wrote.\n",
        "\n",
        "\n",
        "\n",
        "Expected answer:\n",
        "\n",
        "<img src= 'https://drive.google.com/thumbnail?id=1BJtFjhfcTfmSHMErAB1DYN_LDJuW0lbF&sz=w1000' height = 400></img>\n"
      ],
      "metadata": {
        "id": "E3UdZjtGCv8Z"
      }
    },
    {
      "cell_type": "code",
      "source": [
        "reviews_written =\n",
        "reviews_written"
      ],
      "metadata": {
        "id": "lHy1XZyYC9d6"
      },
      "execution_count": null,
      "outputs": []
    },
    {
      "cell_type": "markdown",
      "source": [
        "# Submission\n",
        "- File -> Download -> Download .ipynb\n",
        "- Upload to MS Teams"
      ],
      "metadata": {
        "id": "ck0lZik8ZCHZ"
      }
    }
  ]
}
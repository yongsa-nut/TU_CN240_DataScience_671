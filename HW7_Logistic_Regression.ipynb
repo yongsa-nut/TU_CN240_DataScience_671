{
  "nbformat": 4,
  "nbformat_minor": 0,
  "metadata": {
    "colab": {
      "provenance": [],
      "authorship_tag": "ABX9TyOAUDvOL/BfhrNbAv1DgPI2",
      "include_colab_link": true
    },
    "kernelspec": {
      "name": "python3",
      "display_name": "Python 3"
    },
    "language_info": {
      "name": "python"
    }
  },
  "cells": [
    {
      "cell_type": "markdown",
      "metadata": {
        "id": "view-in-github",
        "colab_type": "text"
      },
      "source": [
        "<a href=\"https://colab.research.google.com/github/yongsa-nut/TU_CN240_DataScience_671/blob/main/HW7_Logistic_Regression.ipynb\" target=\"_parent\"><img src=\"https://colab.research.google.com/assets/colab-badge.svg\" alt=\"Open In Colab\"/></a>"
      ]
    },
    {
      "cell_type": "markdown",
      "source": [
        "# HW 7: Spam/Ham Classification with Logistic Regression\n",
        "\n",
        "## Due: November, 8th 2024\n",
        "\n",
        "### Point: 5"
      ],
      "metadata": {
        "id": "UwQgTq8kQ_ar"
      }
    },
    {
      "cell_type": "markdown",
      "source": [
        "## Introduction\n",
        "\n",
        "You will use what you've learned in class to create a binary classifier that can distinguish spam (junk, commercial, or bulk) emails from ham (regular non-spam) emails.\n",
        "\n",
        "The homework consists of 5 parts:\n",
        "- Initial Analysis of the data\n",
        "- Feature Engineering\n",
        "- EDA\n",
        "- Basic Classification\n",
        "- Evaluating Classification"
      ],
      "metadata": {
        "id": "coPQ72oPRLeU"
      }
    },
    {
      "cell_type": "code",
      "execution_count": null,
      "metadata": {
        "id": "ilQaxaLdQk_R"
      },
      "outputs": [],
      "source": [
        "# Run this cell to suppress all FutureWarnings.\n",
        "import warnings\n",
        "warnings.filterwarnings(\"ignore\", category=FutureWarning)"
      ]
    },
    {
      "cell_type": "code",
      "source": [
        "import numpy as np\n",
        "import pandas as pd\n",
        "from plotnine import *"
      ],
      "metadata": {
        "id": "40gC7dfwhDAY"
      },
      "execution_count": null,
      "outputs": []
    },
    {
      "cell_type": "markdown",
      "source": [
        "<br>\n",
        "\n",
        "---\n",
        "\n",
        "## Data\n",
        "\n",
        "In email classification, **our goal is to classify emails as spam or not spam** (referred to as \"ham\") using features generated from the text in the email. The dataset is from [SpamAssassin](https://spamassassin.apache.org/old/publiccorpus/). It consists of email messages and their labels (0 for ham, 1 for spam). Your labeled training dataset contains 8,348 labeled examples.\n",
        "\n",
        "**Note:** The dataset is from 2004, so the contents of emails might be very different from those in 2024.\n",
        "\n",
        "Run the following cells to load the data into a `DataFrame`.\n",
        "\n",
        "The `train` `DataFrame` contains labeled data you will use to train your model. It has four columns:\n",
        "\n",
        "1. `id`: An identifier for the training example.\n",
        "1. `subject`: The subject of the email.\n",
        "1. `email`: The text of the email.\n",
        "1. `spam`: 1 if the email is spam, 0 if the email is ham (not spam)."
      ],
      "metadata": {
        "id": "cfUX10IVRjjW"
      }
    },
    {
      "cell_type": "code",
      "source": [
        "# Loading training datasets\n",
        "original_training_data = pd.read_csv('/content/spam_train.csv')\n",
        "\n",
        "# Convert the emails to lowercase as the first step of text processing.\n",
        "original_training_data['email'] = original_training_data['email'].str.lower()\n",
        "\n",
        "original_training_data.head()"
      ],
      "metadata": {
        "id": "OjVEywHzR8Xr"
      },
      "execution_count": null,
      "outputs": []
    },
    {
      "cell_type": "markdown",
      "source": [
        "<br/>\n",
        "\n",
        "First, let's check if our data contains **any missing values**. We have filled in the cell below to print the number of `NaN` values in each column. If there are `NaN` values, we replace them with appropriate filler values (i.e., `NaN` values in the `subject` or `email` columns will be replaced with empty strings). Finally, we print the number of `NaN` values in each column after this modification to verify that there are no `NaN` values left.\n",
        "\n",
        "**Note:** While there are no `NaN` values in the `spam` column, we should be careful when replacing `NaN` labels. Doing so without consideration may introduce significant bias into our model."
      ],
      "metadata": {
        "id": "r2DKUzW6SdGT"
      }
    },
    {
      "cell_type": "code",
      "source": [
        "print('Before imputation:')\n",
        "print(original_training_data.isnull().sum())\n",
        "original_training_data = original_training_data.fillna('')\n",
        "print('------------')\n",
        "print('After imputation:')\n",
        "print(original_training_data.isnull().sum())"
      ],
      "metadata": {
        "id": "2N0V8lxhSeOJ"
      },
      "execution_count": null,
      "outputs": []
    },
    {
      "cell_type": "markdown",
      "source": [
        "<br/>\n",
        "\n",
        "---\n",
        "\n",
        "## Part 1: Initial Analysis\n",
        "\n",
        "In the cell below, we have printed the text of the `email` field for the first ham and the first spam email in the original training set."
      ],
      "metadata": {
        "id": "WL-SGmy1SfMx"
      }
    },
    {
      "cell_type": "code",
      "source": [
        "first_ham = original_training_data.loc[original_training_data['spam'] == 0, 'email'].iloc[0]\n",
        "first_spam = original_training_data.loc[original_training_data['spam'] == 1, 'email'].iloc[0]\n",
        "print(\"Ham Email:\")\n",
        "print(first_ham)\n",
        "print(\"-------------------------------------------------\")\n",
        "print(\"Spam Email:\")\n",
        "print(first_spam)"
      ],
      "metadata": {
        "id": "-F4y0TBfSkeQ"
      },
      "execution_count": null,
      "outputs": []
    },
    {
      "cell_type": "markdown",
      "source": [
        "### Question 1 (0.2)\n",
        "\n",
        "Discuss one attribute or characteristic you notice that is different between the two emails that may allow you to uniquely identify a spam email."
      ],
      "metadata": {
        "id": "bTUNYeqrSl6O"
      }
    },
    {
      "cell_type": "markdown",
      "source": [
        "Answer: _Type your answer here, replacing this text._"
      ],
      "metadata": {
        "id": "PFZSnPIuSt9d"
      }
    },
    {
      "cell_type": "markdown",
      "source": [
        "### Training-Validation Split\n",
        "\n",
        "The training data we downloaded is all the data we have available for both training models and **validating** the models that we train. We, therefore, need to split the training data into separate training and validation datasets. You will need this **validation data** to assess the performance of your classifier once you are finished training. Note that we set the seed (`random_state`) to 42. This will produce a pseudo-random sequence of random numbers that is the same for every student.\n",
        "\n",
        "**Do not modify this random seed in the following questions, as our tests depend on it.**"
      ],
      "metadata": {
        "id": "Sb_upDK7VKyN"
      }
    },
    {
      "cell_type": "code",
      "source": [
        "# This creates a 90/10 train-validation split on our labeled data.\n",
        "from sklearn.model_selection import train_test_split\n",
        "\n",
        "train, val = train_test_split(original_training_data, test_size = 0.1, random_state = 42)"
      ],
      "metadata": {
        "id": "Tfh6KKZPVW5b"
      },
      "execution_count": null,
      "outputs": []
    },
    {
      "cell_type": "markdown",
      "source": [
        "<br>\n",
        "\n",
        "---\n",
        "\n",
        "## Part 2: Feature Engineering\n",
        "\n",
        "We want to take the text of an email and predict whether the email is ham or spam. This is a **binary classification** problem, so we can use logistic regression to train a classifier. Recall that to train a logistic regression model, we need a numeric feature matrix $\\mathbb{X}$ and a vector of corresponding binary labels $Y$. Unfortunately, our data are text, not numbers. To address this, we can create numeric features derived from the email text and use those features for logistic regression.\n",
        "\n",
        "Each row of $\\mathbb{X}$ is an email. Each column of $\\mathbb{X}$ contains one feature for all the emails. We'll guide you through creating a simple feature, and you'll create more interesting ones as you try to increase the accuracy of your model."
      ],
      "metadata": {
        "id": "mZy00hUXVYrN"
      }
    },
    {
      "cell_type": "markdown",
      "source": [
        "### Question 2 (0.5 point)\n",
        "\n",
        "Create a function `words_in_texts` that takes in a list of interesting words (`words`) and a `Series` of emails (`texts`). Our goal is to check if each word in `words` is contained in the emails in `texts`.\n",
        "\n",
        "The `words_in_texts` function should output a **2-dimensional `NumPy` array** that contains one row for each email in `texts` and one column for each word in `words`. If the $j$-th word in `words` is present at least once in the $i$-th email in `texts`, the output array should have a value of 1 at the position $(i, j)$. Otherwise, if the $j$-th word is not present in the $i$-th email, the value at $(i, j)$ should be 0.\n",
        "\n",
        "We will be applying `words_in_texts` to some large datasets, so implementing some form of vectorization (for example, using `NumPy` arrays, `Series.str` functions, etc.) is highly recommended.\n",
        "\n",
        "For example:\n",
        "```\n",
        ">>> words_in_texts(['hello', 'bye', 'world'],\n",
        "                   pd.Series(['hello', 'hello worldhello']))\n",
        "\n",
        "array([[1, 0, 0],\n",
        "       [1, 0, 1]])\n",
        "```\n",
        "\n",
        "Importantly, we **do not** calculate the *number of occurrences* of each word; only if the word is present at least *once*. Take a moment to work through the example on your own if need be —— understanding what the function does is a critical first step in implementing it.\n",
        "\n",
        "**Note**: You can convert a list to a numpy array using `np.array(lst)`"
      ],
      "metadata": {
        "id": "fcApzF-DVkQP"
      }
    },
    {
      "cell_type": "code",
      "source": [
        "def words_in_texts(words, texts):\n",
        "    \"\"\"\n",
        "    Args:\n",
        "        words (list): Words to find.\n",
        "        texts (Series): Strings to search in.\n",
        "\n",
        "    Returns:\n",
        "        A 2D NumPy array of 0s and 1s with shape (n, d) where\n",
        "        n is the number of texts, and d is the number of words.\n",
        "    \"\"\"\n",
        "    indicator_array = ...\n",
        "    return indicator_array"
      ],
      "metadata": {
        "id": "A0eqqq5AVnoP"
      },
      "execution_count": null,
      "outputs": []
    },
    {
      "cell_type": "code",
      "source": [
        "# Run this cell to see what your function outputs. Compare the results to the example provided above.\n",
        "words_in_texts(['hello', 'bye', 'world'], pd.Series(['hello', 'hello worldhello']))"
      ],
      "metadata": {
        "id": "0kD9EipfVo8K"
      },
      "execution_count": null,
      "outputs": []
    },
    {
      "cell_type": "markdown",
      "source": [
        "## Part 3: EDA\n",
        "\n",
        "We need to identify some features that allow us to distinguish spam emails from ham emails. One idea is to **compare the distribution of a single feature in spam emails to the distribution of the same feature in ham emails**.\n",
        "\n",
        "Suppose the feature is a binary indicator, such as whether a particular word occurs in the text. In that case, this compares the proportion of spam emails with the word to the proportion of ham emails with the word."
      ],
      "metadata": {
        "id": "PF4Q6UoPVqrd"
      }
    },
    {
      "cell_type": "markdown",
      "source": [
        "### Question 3 (1 point)\n",
        "\n",
        "Create the bar chart as shown below by comparing the proportion of spam and ham emails containing specific words.\n",
        "\n",
        "- **Choose a set of 6 words other than those shown in the example.**\n",
        "- These words should have different proportions for the two classes (i.e., noticeably different bar heights across spam and ham).\n",
        "- Your `words_in_texts` function from the previous part will be useful here.\n",
        "\n",
        "**Hint 1:** This is a pretty challenging question. The suggested approach is to first look at the example bar plot and make sure you can interpret what is being plotted - what does a bar represent? What does the height mean?\n",
        "\n",
        "**Hint 2:** You may want to start by replicating the plot below first.\n",
        "\n",
        "**Hint 3:** You may want to use `numpy.sum(axis=0)` to sum only the first dimension (row)\n",
        "\n",
        "**Hint 4:** You will want to set `geom_bar` as follows `geom_bar(stat='identity', position='dodge')`\n",
        "\n",
        "Finally, you will need to chain some `pandas` functions together. Try to add one function at a time and see how that affects the `DataFrame`. It may help to use a new cell or print out the `DataFrame` for debugging purposes as you work towards achieving the desired format above."
      ],
      "metadata": {
        "id": "ToKugjZnV7yj"
      }
    },
    {
      "cell_type": "code",
      "source": [
        "# Example of ansnwer. YOU MUST NOT USE THESE WORDS!"
      ],
      "metadata": {
        "colab": {
          "base_uri": "https://localhost:8080/",
          "height": 425
        },
        "id": "-s3PKsPBWGfn",
        "outputId": "c5e95375-a4de-4e66-eff5-8e4a55f4c0f5"
      },
      "execution_count": null,
      "outputs": [
        {
          "output_type": "display_data",
          "data": {
            "text/plain": [
              "        word  type  percentage\n",
              "0       body   Ham    0.123682\n",
              "1   business   Ham    0.087042\n",
              "2       html   Ham    0.222163\n",
              "3      money   Ham    0.058266\n",
              "4      offer   Ham    0.062198\n",
              "5     please   Ham    0.099553\n",
              "6       body  Spam    0.519812\n",
              "7   business  Spam    0.257039\n",
              "8       html  Spam    0.595412\n",
              "9      money  Spam    0.232534\n",
              "10     offer  Spam    0.314390\n",
              "11    please  Spam    0.526069"
            ],
            "text/html": [
              "\n",
              "  <div id=\"df-9cea392f-092b-4ad0-a4a3-8b8016d94e08\" class=\"colab-df-container\">\n",
              "    <div>\n",
              "<style scoped>\n",
              "    .dataframe tbody tr th:only-of-type {\n",
              "        vertical-align: middle;\n",
              "    }\n",
              "\n",
              "    .dataframe tbody tr th {\n",
              "        vertical-align: top;\n",
              "    }\n",
              "\n",
              "    .dataframe thead th {\n",
              "        text-align: right;\n",
              "    }\n",
              "</style>\n",
              "<table border=\"1\" class=\"dataframe\">\n",
              "  <thead>\n",
              "    <tr style=\"text-align: right;\">\n",
              "      <th></th>\n",
              "      <th>word</th>\n",
              "      <th>type</th>\n",
              "      <th>percentage</th>\n",
              "    </tr>\n",
              "  </thead>\n",
              "  <tbody>\n",
              "    <tr>\n",
              "      <th>0</th>\n",
              "      <td>body</td>\n",
              "      <td>Ham</td>\n",
              "      <td>0.123682</td>\n",
              "    </tr>\n",
              "    <tr>\n",
              "      <th>1</th>\n",
              "      <td>business</td>\n",
              "      <td>Ham</td>\n",
              "      <td>0.087042</td>\n",
              "    </tr>\n",
              "    <tr>\n",
              "      <th>2</th>\n",
              "      <td>html</td>\n",
              "      <td>Ham</td>\n",
              "      <td>0.222163</td>\n",
              "    </tr>\n",
              "    <tr>\n",
              "      <th>3</th>\n",
              "      <td>money</td>\n",
              "      <td>Ham</td>\n",
              "      <td>0.058266</td>\n",
              "    </tr>\n",
              "    <tr>\n",
              "      <th>4</th>\n",
              "      <td>offer</td>\n",
              "      <td>Ham</td>\n",
              "      <td>0.062198</td>\n",
              "    </tr>\n",
              "    <tr>\n",
              "      <th>5</th>\n",
              "      <td>please</td>\n",
              "      <td>Ham</td>\n",
              "      <td>0.099553</td>\n",
              "    </tr>\n",
              "    <tr>\n",
              "      <th>6</th>\n",
              "      <td>body</td>\n",
              "      <td>Spam</td>\n",
              "      <td>0.519812</td>\n",
              "    </tr>\n",
              "    <tr>\n",
              "      <th>7</th>\n",
              "      <td>business</td>\n",
              "      <td>Spam</td>\n",
              "      <td>0.257039</td>\n",
              "    </tr>\n",
              "    <tr>\n",
              "      <th>8</th>\n",
              "      <td>html</td>\n",
              "      <td>Spam</td>\n",
              "      <td>0.595412</td>\n",
              "    </tr>\n",
              "    <tr>\n",
              "      <th>9</th>\n",
              "      <td>money</td>\n",
              "      <td>Spam</td>\n",
              "      <td>0.232534</td>\n",
              "    </tr>\n",
              "    <tr>\n",
              "      <th>10</th>\n",
              "      <td>offer</td>\n",
              "      <td>Spam</td>\n",
              "      <td>0.314390</td>\n",
              "    </tr>\n",
              "    <tr>\n",
              "      <th>11</th>\n",
              "      <td>please</td>\n",
              "      <td>Spam</td>\n",
              "      <td>0.526069</td>\n",
              "    </tr>\n",
              "  </tbody>\n",
              "</table>\n",
              "</div>\n",
              "    <div class=\"colab-df-buttons\">\n",
              "\n",
              "  <div class=\"colab-df-container\">\n",
              "    <button class=\"colab-df-convert\" onclick=\"convertToInteractive('df-9cea392f-092b-4ad0-a4a3-8b8016d94e08')\"\n",
              "            title=\"Convert this dataframe to an interactive table.\"\n",
              "            style=\"display:none;\">\n",
              "\n",
              "  <svg xmlns=\"http://www.w3.org/2000/svg\" height=\"24px\" viewBox=\"0 -960 960 960\">\n",
              "    <path d=\"M120-120v-720h720v720H120Zm60-500h600v-160H180v160Zm220 220h160v-160H400v160Zm0 220h160v-160H400v160ZM180-400h160v-160H180v160Zm440 0h160v-160H620v160ZM180-180h160v-160H180v160Zm440 0h160v-160H620v160Z\"/>\n",
              "  </svg>\n",
              "    </button>\n",
              "\n",
              "  <style>\n",
              "    .colab-df-container {\n",
              "      display:flex;\n",
              "      gap: 12px;\n",
              "    }\n",
              "\n",
              "    .colab-df-convert {\n",
              "      background-color: #E8F0FE;\n",
              "      border: none;\n",
              "      border-radius: 50%;\n",
              "      cursor: pointer;\n",
              "      display: none;\n",
              "      fill: #1967D2;\n",
              "      height: 32px;\n",
              "      padding: 0 0 0 0;\n",
              "      width: 32px;\n",
              "    }\n",
              "\n",
              "    .colab-df-convert:hover {\n",
              "      background-color: #E2EBFA;\n",
              "      box-shadow: 0px 1px 2px rgba(60, 64, 67, 0.3), 0px 1px 3px 1px rgba(60, 64, 67, 0.15);\n",
              "      fill: #174EA6;\n",
              "    }\n",
              "\n",
              "    .colab-df-buttons div {\n",
              "      margin-bottom: 4px;\n",
              "    }\n",
              "\n",
              "    [theme=dark] .colab-df-convert {\n",
              "      background-color: #3B4455;\n",
              "      fill: #D2E3FC;\n",
              "    }\n",
              "\n",
              "    [theme=dark] .colab-df-convert:hover {\n",
              "      background-color: #434B5C;\n",
              "      box-shadow: 0px 1px 3px 1px rgba(0, 0, 0, 0.15);\n",
              "      filter: drop-shadow(0px 1px 2px rgba(0, 0, 0, 0.3));\n",
              "      fill: #FFFFFF;\n",
              "    }\n",
              "  </style>\n",
              "\n",
              "    <script>\n",
              "      const buttonEl =\n",
              "        document.querySelector('#df-9cea392f-092b-4ad0-a4a3-8b8016d94e08 button.colab-df-convert');\n",
              "      buttonEl.style.display =\n",
              "        google.colab.kernel.accessAllowed ? 'block' : 'none';\n",
              "\n",
              "      async function convertToInteractive(key) {\n",
              "        const element = document.querySelector('#df-9cea392f-092b-4ad0-a4a3-8b8016d94e08');\n",
              "        const dataTable =\n",
              "          await google.colab.kernel.invokeFunction('convertToInteractive',\n",
              "                                                    [key], {});\n",
              "        if (!dataTable) return;\n",
              "\n",
              "        const docLinkHtml = 'Like what you see? Visit the ' +\n",
              "          '<a target=\"_blank\" href=https://colab.research.google.com/notebooks/data_table.ipynb>data table notebook</a>'\n",
              "          + ' to learn more about interactive tables.';\n",
              "        element.innerHTML = '';\n",
              "        dataTable['output_type'] = 'display_data';\n",
              "        await google.colab.output.renderOutput(dataTable, element);\n",
              "        const docLink = document.createElement('div');\n",
              "        docLink.innerHTML = docLinkHtml;\n",
              "        element.appendChild(docLink);\n",
              "      }\n",
              "    </script>\n",
              "  </div>\n",
              "\n",
              "\n",
              "<div id=\"df-7fc1d09c-5a8c-4a4d-b2f9-2c3683842daa\">\n",
              "  <button class=\"colab-df-quickchart\" onclick=\"quickchart('df-7fc1d09c-5a8c-4a4d-b2f9-2c3683842daa')\"\n",
              "            title=\"Suggest charts\"\n",
              "            style=\"display:none;\">\n",
              "\n",
              "<svg xmlns=\"http://www.w3.org/2000/svg\" height=\"24px\"viewBox=\"0 0 24 24\"\n",
              "     width=\"24px\">\n",
              "    <g>\n",
              "        <path d=\"M19 3H5c-1.1 0-2 .9-2 2v14c0 1.1.9 2 2 2h14c1.1 0 2-.9 2-2V5c0-1.1-.9-2-2-2zM9 17H7v-7h2v7zm4 0h-2V7h2v10zm4 0h-2v-4h2v4z\"/>\n",
              "    </g>\n",
              "</svg>\n",
              "  </button>\n",
              "\n",
              "<style>\n",
              "  .colab-df-quickchart {\n",
              "      --bg-color: #E8F0FE;\n",
              "      --fill-color: #1967D2;\n",
              "      --hover-bg-color: #E2EBFA;\n",
              "      --hover-fill-color: #174EA6;\n",
              "      --disabled-fill-color: #AAA;\n",
              "      --disabled-bg-color: #DDD;\n",
              "  }\n",
              "\n",
              "  [theme=dark] .colab-df-quickchart {\n",
              "      --bg-color: #3B4455;\n",
              "      --fill-color: #D2E3FC;\n",
              "      --hover-bg-color: #434B5C;\n",
              "      --hover-fill-color: #FFFFFF;\n",
              "      --disabled-bg-color: #3B4455;\n",
              "      --disabled-fill-color: #666;\n",
              "  }\n",
              "\n",
              "  .colab-df-quickchart {\n",
              "    background-color: var(--bg-color);\n",
              "    border: none;\n",
              "    border-radius: 50%;\n",
              "    cursor: pointer;\n",
              "    display: none;\n",
              "    fill: var(--fill-color);\n",
              "    height: 32px;\n",
              "    padding: 0;\n",
              "    width: 32px;\n",
              "  }\n",
              "\n",
              "  .colab-df-quickchart:hover {\n",
              "    background-color: var(--hover-bg-color);\n",
              "    box-shadow: 0 1px 2px rgba(60, 64, 67, 0.3), 0 1px 3px 1px rgba(60, 64, 67, 0.15);\n",
              "    fill: var(--button-hover-fill-color);\n",
              "  }\n",
              "\n",
              "  .colab-df-quickchart-complete:disabled,\n",
              "  .colab-df-quickchart-complete:disabled:hover {\n",
              "    background-color: var(--disabled-bg-color);\n",
              "    fill: var(--disabled-fill-color);\n",
              "    box-shadow: none;\n",
              "  }\n",
              "\n",
              "  .colab-df-spinner {\n",
              "    border: 2px solid var(--fill-color);\n",
              "    border-color: transparent;\n",
              "    border-bottom-color: var(--fill-color);\n",
              "    animation:\n",
              "      spin 1s steps(1) infinite;\n",
              "  }\n",
              "\n",
              "  @keyframes spin {\n",
              "    0% {\n",
              "      border-color: transparent;\n",
              "      border-bottom-color: var(--fill-color);\n",
              "      border-left-color: var(--fill-color);\n",
              "    }\n",
              "    20% {\n",
              "      border-color: transparent;\n",
              "      border-left-color: var(--fill-color);\n",
              "      border-top-color: var(--fill-color);\n",
              "    }\n",
              "    30% {\n",
              "      border-color: transparent;\n",
              "      border-left-color: var(--fill-color);\n",
              "      border-top-color: var(--fill-color);\n",
              "      border-right-color: var(--fill-color);\n",
              "    }\n",
              "    40% {\n",
              "      border-color: transparent;\n",
              "      border-right-color: var(--fill-color);\n",
              "      border-top-color: var(--fill-color);\n",
              "    }\n",
              "    60% {\n",
              "      border-color: transparent;\n",
              "      border-right-color: var(--fill-color);\n",
              "    }\n",
              "    80% {\n",
              "      border-color: transparent;\n",
              "      border-right-color: var(--fill-color);\n",
              "      border-bottom-color: var(--fill-color);\n",
              "    }\n",
              "    90% {\n",
              "      border-color: transparent;\n",
              "      border-bottom-color: var(--fill-color);\n",
              "    }\n",
              "  }\n",
              "</style>\n",
              "\n",
              "  <script>\n",
              "    async function quickchart(key) {\n",
              "      const quickchartButtonEl =\n",
              "        document.querySelector('#' + key + ' button');\n",
              "      quickchartButtonEl.disabled = true;  // To prevent multiple clicks.\n",
              "      quickchartButtonEl.classList.add('colab-df-spinner');\n",
              "      try {\n",
              "        const charts = await google.colab.kernel.invokeFunction(\n",
              "            'suggestCharts', [key], {});\n",
              "      } catch (error) {\n",
              "        console.error('Error during call to suggestCharts:', error);\n",
              "      }\n",
              "      quickchartButtonEl.classList.remove('colab-df-spinner');\n",
              "      quickchartButtonEl.classList.add('colab-df-quickchart-complete');\n",
              "    }\n",
              "    (() => {\n",
              "      let quickchartButtonEl =\n",
              "        document.querySelector('#df-7fc1d09c-5a8c-4a4d-b2f9-2c3683842daa button');\n",
              "      quickchartButtonEl.style.display =\n",
              "        google.colab.kernel.accessAllowed ? 'block' : 'none';\n",
              "    })();\n",
              "  </script>\n",
              "</div>\n",
              "\n",
              "  <div id=\"id_feec3814-abd4-4e98-b078-31c1ac152101\">\n",
              "    <style>\n",
              "      .colab-df-generate {\n",
              "        background-color: #E8F0FE;\n",
              "        border: none;\n",
              "        border-radius: 50%;\n",
              "        cursor: pointer;\n",
              "        display: none;\n",
              "        fill: #1967D2;\n",
              "        height: 32px;\n",
              "        padding: 0 0 0 0;\n",
              "        width: 32px;\n",
              "      }\n",
              "\n",
              "      .colab-df-generate:hover {\n",
              "        background-color: #E2EBFA;\n",
              "        box-shadow: 0px 1px 2px rgba(60, 64, 67, 0.3), 0px 1px 3px 1px rgba(60, 64, 67, 0.15);\n",
              "        fill: #174EA6;\n",
              "      }\n",
              "\n",
              "      [theme=dark] .colab-df-generate {\n",
              "        background-color: #3B4455;\n",
              "        fill: #D2E3FC;\n",
              "      }\n",
              "\n",
              "      [theme=dark] .colab-df-generate:hover {\n",
              "        background-color: #434B5C;\n",
              "        box-shadow: 0px 1px 3px 1px rgba(0, 0, 0, 0.15);\n",
              "        filter: drop-shadow(0px 1px 2px rgba(0, 0, 0, 0.3));\n",
              "        fill: #FFFFFF;\n",
              "      }\n",
              "    </style>\n",
              "    <button class=\"colab-df-generate\" onclick=\"generateWithVariable('df')\"\n",
              "            title=\"Generate code using this dataframe.\"\n",
              "            style=\"display:none;\">\n",
              "\n",
              "  <svg xmlns=\"http://www.w3.org/2000/svg\" height=\"24px\"viewBox=\"0 0 24 24\"\n",
              "       width=\"24px\">\n",
              "    <path d=\"M7,19H8.4L18.45,9,17,7.55,7,17.6ZM5,21V16.75L18.45,3.32a2,2,0,0,1,2.83,0l1.4,1.43a1.91,1.91,0,0,1,.58,1.4,1.91,1.91,0,0,1-.58,1.4L9.25,21ZM18.45,9,17,7.55Zm-12,3A5.31,5.31,0,0,0,4.9,8.1,5.31,5.31,0,0,0,1,6.5,5.31,5.31,0,0,0,4.9,4.9,5.31,5.31,0,0,0,6.5,1,5.31,5.31,0,0,0,8.1,4.9,5.31,5.31,0,0,0,12,6.5,5.46,5.46,0,0,0,6.5,12Z\"/>\n",
              "  </svg>\n",
              "    </button>\n",
              "    <script>\n",
              "      (() => {\n",
              "      const buttonEl =\n",
              "        document.querySelector('#id_feec3814-abd4-4e98-b078-31c1ac152101 button.colab-df-generate');\n",
              "      buttonEl.style.display =\n",
              "        google.colab.kernel.accessAllowed ? 'block' : 'none';\n",
              "\n",
              "      buttonEl.onclick = () => {\n",
              "        google.colab.notebook.generateWithVariable('df');\n",
              "      }\n",
              "      })();\n",
              "    </script>\n",
              "  </div>\n",
              "\n",
              "    </div>\n",
              "  </div>\n"
            ],
            "application/vnd.google.colaboratory.intrinsic+json": {
              "type": "dataframe",
              "variable_name": "df",
              "summary": "{\n  \"name\": \"df\",\n  \"rows\": 12,\n  \"fields\": [\n    {\n      \"column\": \"word\",\n      \"properties\": {\n        \"dtype\": \"string\",\n        \"num_unique_values\": 6,\n        \"samples\": [\n          \"body\",\n          \"business\",\n          \"please\"\n        ],\n        \"semantic_type\": \"\",\n        \"description\": \"\"\n      }\n    },\n    {\n      \"column\": \"type\",\n      \"properties\": {\n        \"dtype\": \"category\",\n        \"num_unique_values\": 2,\n        \"samples\": [\n          \"Spam\",\n          \"Ham\"\n        ],\n        \"semantic_type\": \"\",\n        \"description\": \"\"\n      }\n    },\n    {\n      \"column\": \"percentage\",\n      \"properties\": {\n        \"dtype\": \"number\",\n        \"std\": 0.19305481498886426,\n        \"min\": 0.058266309204647,\n        \"max\": 0.5954118873826904,\n        \"num_unique_values\": 12,\n        \"samples\": [\n          0.31438998957247133,\n          0.23253388946819603\n        ],\n        \"semantic_type\": \"\",\n        \"description\": \"\"\n      }\n    }\n  ]\n}"
            }
          },
          "metadata": {}
        }
      ]
    },
    {
      "cell_type": "code",
      "source": [
        "# Example of ansnwer. YOU MUST NOT USE THESE WORDS!"
      ],
      "metadata": {
        "colab": {
          "base_uri": "https://localhost:8080/",
          "height": 497
        },
        "id": "KrTzHOhZnnrf",
        "outputId": "c50cfa7f-dec7-4866-ec10-36770a70a022"
      },
      "execution_count": null,
      "outputs": [
        {
          "output_type": "display_data",
          "data": {
            "image/png": "[encoded data removed]"
          },
          "metadata": {
            "image/png": {
              "width": 640,
              "height": 480
            }
          }
        }
      ]
    },
    {
      "cell_type": "markdown",
      "source": [
        "When the feature is binary, it makes sense to compare its proportions across classes (as in the previous question). Otherwise, if the feature can take on numeric values, we can compare the distributions of these values for different classes.\n",
        "\n",
        "Create your bar chart in the following cell:"
      ],
      "metadata": {
        "id": "UHcWq718WAmZ"
      }
    },
    {
      "cell_type": "code",
      "source": [
        "train = train.reset_index(drop=True) # We must do this in order to preserve the ordering of emails to labels for words_in_texts.\n",
        "\n",
        "..."
      ],
      "metadata": {
        "id": "j5HuCldzWClk"
      },
      "execution_count": null,
      "outputs": []
    },
    {
      "cell_type": "markdown",
      "source": [
        "<br>\n",
        "\n",
        "---\n",
        "\n",
        "## Part 4: Basic Classification\n",
        "\n",
        "Notice that the output of `words_in_texts(words, train['email'])` is a numeric matrix containing features for each email. This means we can use it directly to train a classifier!"
      ],
      "metadata": {
        "id": "umN4-xW4WThW"
      }
    },
    {
      "cell_type": "markdown",
      "source": [
        "### Question 4 (0.5)\n",
        "\n",
        "We've given you 5 words that might be useful as features to distinguish spam/ham emails.\n",
        "\n",
        "**Use these words** (`some_words`) and the `train` `DataFrame` to create two `NumPy` arrays: `X_train` and `Y_train`.\n",
        "- `X_train` should be a 2D array of 0s and 1s created using your `words_in_texts` function on all the emails in the training set.\n",
        "-  `Y_train` should be a vector of the correct labels for each email in the training set."
      ],
      "metadata": {
        "id": "bxgTfBUzWbCY"
      }
    },
    {
      "cell_type": "code",
      "source": [
        "some_words = ['drug', 'bank', 'prescription', 'memo', 'private']\n",
        "\n",
        "X_train = ...\n",
        "Y_train = ...\n",
        "\n",
        "X_train[:5], Y_train[:5]"
      ],
      "metadata": {
        "colab": {
          "base_uri": "https://localhost:8080/"
        },
        "id": "VDNaktxNWasw",
        "outputId": "408cf77e-4a53-4d40-bc6d-46d820187f38"
      },
      "execution_count": null,
      "outputs": [
        {
          "output_type": "execute_result",
          "data": {
            "text/plain": [
              "(array([[0, 0, 0, 0, 0],\n",
              "        [0, 0, 0, 0, 0],\n",
              "        [0, 0, 0, 0, 0],\n",
              "        [0, 0, 0, 0, 0],\n",
              "        [0, 0, 0, 1, 0]]),\n",
              " 0    0\n",
              " 1    0\n",
              " 2    0\n",
              " 3    0\n",
              " 4    0\n",
              " Name: spam, dtype: int64)"
            ]
          },
          "metadata": {},
          "execution_count": 88
        }
      ]
    },
    {
      "cell_type": "markdown",
      "source": [
        "### Question 5 (0.5)\n",
        "\n",
        "Now that we have matrices, we can build a model with `sklearn`! Using the [`LogisticRegression`](http://scikit-learn.org/stable/modules/generated/sklearn.linear_model.LogisticRegression.html) classifier, train a logistic regression model using `X_train` and `Y_train`. Then, output the model's training accuracy below. You should get an accuracy of around $0.76$."
      ],
      "metadata": {
        "id": "5im1UxLLWfDp"
      }
    },
    {
      "cell_type": "code",
      "source": [
        "from sklearn.linear_model import LogisticRegression\n",
        "\n",
        "my_model = ...\n",
        "...\n",
        "\n",
        "training_accuracy = ...\n",
        "print(\"Training Accuracy: \", training_accuracy)"
      ],
      "metadata": {
        "id": "28Ze-KDaxi5Q"
      },
      "execution_count": null,
      "outputs": []
    },
    {
      "cell_type": "markdown",
      "source": [
        "<br>\n",
        "\n",
        "---\n",
        "\n",
        "## Part 5: Evaluating Classifiers"
      ],
      "metadata": {
        "id": "XYCkvn5fWqvg"
      }
    },
    {
      "cell_type": "markdown",
      "source": [
        "That doesn't seem too shabby! But the classifier you made above isn't as good as the accuracy would make you believe. First, we are evaluating the accuracy of the model on the training set, which may be a misleading measure. Accuracy on the training set doesn't always translate to accuracy in the real world (on the test set).\n",
        "\n",
        "Presumably, our classifier will be used for **filtering**, or preventing messages labeled `spam` from reaching someone's inbox. There are two kinds of errors we can make:\n",
        "- **False positive (FP)**: A ham email gets flagged as spam and filtered out of the inbox.\n",
        "- **False negative (FN)**: A spam email gets mislabeled as ham and ends up in the inbox.\n",
        "\n",
        "To be clear, we label spam emails as 1 and ham emails as 0. These definitions depend both on the true labels and the predicted labels. False positives and false negatives may be of differing importance, leading us to consider more ways of evaluating a classifier in addition to overall accuracy:\n",
        "\n",
        "**Precision**: Measures the proportion of emails flagged as spam that are actually spam. Mathematically, $\\frac{\\text{TP}}{\\text{TP} + \\text{FP}}$.\n",
        "\n",
        "**Recall**: Measures the proportion  of spam emails that were correctly flagged as spam. Mathematically, $\\frac{\\text{TP}}{\\text{TP} + \\text{FN}}$.\n",
        "\n",
        "**False positive rate**: Measures the proportion  of ham emails that were incorrectly flagged as spam. Mathematically, $\\frac{\\text{FP}}{\\text{FP} + \\text{TN}}$.\n",
        "\n",
        "One quick mnemonic to remember the formulas is that **P**recision involves T**P** and F**P**, Recall does not.\n",
        "\n",
        "Note that a True Positive (TP) is a spam email that is classified as spam, and a True Negative (TN) is a ham email that is classified as ham."
      ],
      "metadata": {
        "id": "OP2NOolaWvxQ"
      }
    },
    {
      "cell_type": "markdown",
      "source": [
        "### Question 6a (0.2 points)\n",
        "\n",
        "Suppose we have a hypothetical classifier called the “zero predictor.” For any inputted email, **the zero predictor *always* predicts 0 (it never makes a prediction of 1 for any email)**. (Recall: 0 is ham and 1 is spam)\n",
        "\n",
        "How many false positives and false negatives would this classifier have if it were evaluated on the training set and its results were compared to `Y_train`?\n",
        "\n",
        "Assign `zero_predictor_fp` to the number of false positives and `zero_predictor_fn` to the number of false negatives for the hypothetical zero predictor on the training data."
      ],
      "metadata": {
        "id": "FSmPOGlNW2ls"
      }
    },
    {
      "cell_type": "code",
      "source": [
        "zero_predictor_fp = ...\n",
        "zero_predictor_fn = ...\n",
        "zero_predictor_fp, zero_predictor_fn"
      ],
      "metadata": {
        "colab": {
          "base_uri": "https://localhost:8080/"
        },
        "id": "EHHNQaEMWvbl",
        "outputId": "521a097b-4683-4845-c24a-32e0b86e5404"
      },
      "execution_count": null,
      "outputs": [
        {
          "output_type": "execute_result",
          "data": {
            "text/plain": [
              "(0, 1918)"
            ]
          },
          "metadata": {},
          "execution_count": 96
        }
      ]
    },
    {
      "cell_type": "markdown",
      "source": [
        "### Question 6b (0.2 points)\n",
        "\n",
        "What is the accuracy and recall of the zero predictor on the training data? Do not use any `sklearn` functions to compute these performance metrics."
      ],
      "metadata": {
        "id": "iHxyKwEAW8pz"
      }
    },
    {
      "cell_type": "code",
      "source": [
        "zero_predictor_tp = ...\n",
        "zero_predictor_acc = ...\n",
        "zero_predictor_recall = ...\n",
        "zero_predictor_tp, zero_predictor_acc, zero_predictor_recall"
      ],
      "metadata": {
        "colab": {
          "base_uri": "https://localhost:8080/"
        },
        "id": "FVLHfOukW-Pr",
        "outputId": "d19da0fb-a900-444d-f5c6-59df0b587507"
      },
      "execution_count": null,
      "outputs": [
        {
          "output_type": "execute_result",
          "data": {
            "text/plain": [
              "(0.7447091707706642, 1.0)"
            ]
          },
          "metadata": {},
          "execution_count": 99
        }
      ]
    },
    {
      "cell_type": "markdown",
      "source": [
        "### Question 6c (0.2 points)\n",
        "\n",
        "Explain your results in `q6a` and `q6b`. How did you know what to assign to `zero_predictor_fp`, `zero_predictor_fn`, `zero_predictor_acc`, and `zero_predictor_recall`?"
      ],
      "metadata": {
        "id": "1DWtKdhdXAl6"
      }
    },
    {
      "cell_type": "markdown",
      "source": [
        "Answer: _Type your answer here, replacing this text._"
      ],
      "metadata": {
        "id": "BNagIXmGXC20"
      }
    },
    {
      "cell_type": "markdown",
      "source": [
        "### Question 6d (0.4 points)\n",
        "\n",
        "Compute the precision, recall, and false positive rate of the `LogisticRegression` classifier `my_model` from Question 5. Do **not** use any `sklearn` functions to compute performance metrics; the only `sklearn` method you may use here is `.predict` to generate model predictions using `my_model` and `X_train`."
      ],
      "metadata": {
        "id": "8v-rEu94XTqQ"
      }
    },
    {
      "cell_type": "code",
      "source": [
        "Y_train_hat = ...\n",
        "\n",
        "TP = ...\n",
        "TN = ...\n",
        "FP = ...\n",
        "FN = ...\n",
        "logistic_predictor_precision = ...\n",
        "logistic_predictor_recall = ...\n",
        "\n",
        "print(f\"{TP=}, {TN=}, {FP=}, {FN=}\")\n",
        "print(f\"{logistic_predictor_precision=:.2f}, {logistic_predictor_recall=:.2f}\")"
      ],
      "metadata": {
        "id": "G9nh_L81XVAH"
      },
      "execution_count": null,
      "outputs": []
    },
    {
      "cell_type": "markdown",
      "source": [
        "### Question 6e (0.2 points)\n",
        "\n",
        "Is the number of false positives produced by the logistic regression classifier `my_model` strictly greater than the number of false negatives produced? Assign to `q6e` an expression that evaluates to give your answer (`True` or `False`)."
      ],
      "metadata": {
        "id": "WpPieldlF7iW"
      }
    },
    {
      "cell_type": "code",
      "source": [
        "q6e = ...\n",
        "q6e"
      ],
      "metadata": {
        "id": "uYVtpj8dF9ZE"
      },
      "execution_count": null,
      "outputs": []
    },
    {
      "cell_type": "markdown",
      "source": [
        "### Question 6f (0.2 points)\n",
        "\n",
        "How does the accuracy of the logistic regression classifier `my_model` compare to the accuracy of the zero predictor?"
      ],
      "metadata": {
        "id": "gM6Cn9mYXc_b"
      }
    },
    {
      "cell_type": "markdown",
      "source": [
        "Answer: _Type your answer here, replacing this text._"
      ],
      "metadata": {
        "id": "mEGe1mCuXeu9"
      }
    },
    {
      "cell_type": "markdown",
      "source": [
        "### Question 6g (0.2 points)\n",
        "\n",
        "Given the word features provided in Question 4, discuss why the logistic regression classifier `my_model` may be performing poorly.\n",
        "\n",
        "**Hint:** Think about how prevalent these words are in the email set."
      ],
      "metadata": {
        "id": "DrcrBh8sXjv7"
      }
    },
    {
      "cell_type": "markdown",
      "source": [
        "Answer: _Type your answer here, replacing this text._"
      ],
      "metadata": {
        "id": "yonT45EuXmGX"
      }
    },
    {
      "cell_type": "markdown",
      "source": [
        "### Question 6h (0.2 points)\n",
        "\n",
        "Would you prefer to use the logistic regression classifier `my_model` or the zero predictor classifier for a spam filter? Why? Describe your reasoning and relate it to at least one of the evaluation metrics you have computed so far."
      ],
      "metadata": {
        "id": "-Xxw1sODXvCo"
      }
    },
    {
      "cell_type": "markdown",
      "source": [
        "Answer: _Type your answer here, replacing this text._"
      ],
      "metadata": {
        "id": "IrvQYQf2XxYa"
      }
    },
    {
      "cell_type": "markdown",
      "source": [
        "<br>\n",
        "\n",
        "---\n",
        "\n",
        "## Part 6: Use your words\n",
        "\n",
        "### Q7 (0.5 point)\n",
        "\n",
        "- Repeat Part 4 with your chosen 6 words.\n",
        "- Report both training accuracy and validation accuracy."
      ],
      "metadata": {
        "id": "W0lKUdZN0Fq1"
      }
    },
    {
      "cell_type": "code",
      "source": [
        "...\n",
        "\n",
        "training_accuracy = ...\n",
        "print(\"Training Accuracy: \", training_accuracy)\n",
        "validation_accuracy = ...\n",
        "print(\"Validation Accuracy: \", validation_accuracy)"
      ],
      "metadata": {
        "id": "J3uInk1t0Vy9"
      },
      "execution_count": null,
      "outputs": []
    }
  ]
}